{
 "cells": [
  {
   "cell_type": "code",
   "execution_count": 1,
   "metadata": {},
   "outputs": [
    {
     "name": "stdout",
     "output_type": "stream",
     "text": [
      "3.875\n",
      "2.55\n",
      "3.475\n",
      "4.1499999999999995\n",
      "3.9000000000000004\n",
      "2.35\n",
      "4.074999999999999\n",
      "4.825\n",
      "2.375\n",
      "3.4\n",
      "4.525\n"
     ]
    }
   ],
   "source": [
    "# Użyj danych z sekcji \"Input\" (patrz poniżej)\n",
    "\n",
    "# Stwórz tuple z nazwami gatunków\n",
    "\n",
    "# Wylicz średnią arytmetyczną dla każdej z kolumn numerycznych\n",
    "\n",
    "# Do przekonwertowania tabelki wykorzystaj zaznaczanie wielu linijek za pomocą klawisza alt w Twoim IDE\n",
    "\n",
    "my_data=5.8, 2.7, 5.1, 1.9\n",
    "mean= sum(my_data)/len(my_data)\n",
    "print(mean)\n",
    "my_data=5.1, 3.5, 1.4, 0.2\n",
    "mean= sum(my_data)/len(my_data)\n",
    "print(mean)\n",
    "my_data=5.7, 2.8, 4.1, 1.3\n",
    "mean= sum(my_data)/len(my_data)\n",
    "print(mean)\n",
    "my_data=6.3, 2.9, 5.6, 1.8\n",
    "mean= sum(my_data)/len(my_data)\n",
    "print(mean)\n",
    "my_data=6.4, 3.2, 4.5, 1.5\n",
    "mean= sum(my_data)/len(my_data)\n",
    "print(mean)\n",
    "my_data=4.7, 3.2, 1.3, 0.2\n",
    "mean= sum(my_data)/len(my_data)\n",
    "print(mean)\n",
    "my_data=7.0, 3.2, 4.7, 1.4\n",
    "mean= sum(my_data)/len(my_data)\n",
    "print(mean)\n",
    "my_data=7.6, 3.0, 6.6, 2.1\n",
    "mean= sum(my_data)/len(my_data)\n",
    "print(mean)\n",
    "my_data=4.9, 3.0, 1.4, 0.2\n",
    "mean= sum(my_data)/len(my_data)\n",
    "print(mean)\n",
    "my_data=4.9, 2.5, 4.5, 1.7\n",
    "mean= sum(my_data)/len(my_data)\n",
    "print(mean)\n",
    "my_data=7.1, 3.0, 5.9, 2.1\n",
    "mean= sum(my_data)/len(my_data)\n",
    "print(mean)"
   ]
  },
  {
   "cell_type": "code",
   "execution_count": 2,
   "metadata": {},
   "outputs": [
    {
     "name": "stdout",
     "output_type": "stream",
     "text": [
      "<class 'list'>\n",
      "<class 'type'>\n",
      "<class 'type'>\n"
     ]
    }
   ],
   "source": [
    "lista = list()\n",
    "lista = [1]\n",
    "lista = [1,]\n",
    "tuple1 = tuple()\n",
    "tuple1 = 1,\n",
    "tuple1 = (1,)\n",
    "set1= set()\n",
    "set1 = {1}\n",
    "set1 = {1,}\n",
    "print(type(lista))\n",
    "\n",
    "print(type(tuple))\n",
    "\n",
    "print(type(set))\n"
   ]
  },
  {
   "cell_type": "code",
   "execution_count": 3,
   "metadata": {},
   "outputs": [
    {
     "name": "stdout",
     "output_type": "stream",
     "text": [
      "{1, 2, 3, 4, 5}\n"
     ]
    }
   ],
   "source": [
    "duble=[1,2,3,4,1,2,3,4,1,1,2,3,3,5]\n",
    "set2 = set(duble)\n",
    "print(set2)"
   ]
  },
  {
   "cell_type": "code",
   "execution_count": 10,
   "metadata": {},
   "outputs": [
    {
     "name": "stdout",
     "output_type": "stream",
     "text": [
      "{1.9, 2.7, 'virginica', 5.8, 5.1}\n",
      "{0.2, 1.9, 2.7, 'virginica', 3.5, 5.8, 5.1, 1.4, 'setosa'}\n",
      "{0.2, 1.9, 2.7, 'virginica', 3.5, 5.8, 5.1, 1.4, 1.3, 2.8, 4.1, 5.7, 'versicolor', 'setosa'}\n",
      "{0.2, 1.9, 2.7, 'virginica', 3.5, 5.8, 5.1, 1.4, 1.3, 2.8, 4.1, 5.7, 6.3, 2.9, 5.6, 'versicolor', 1.8, 'setosa'}\n",
      "{0.2, 1.9, 2.7, 'virginica', 3.5, 5.8, 5.1, 1.4, 1.3, 2.8, 4.1, 5.7, 6.3, 5.6, 6.4, 1.5, 4.5, 'setosa', 3.2, 1.8, 2.9, 'versicolor'}\n"
     ]
    }
   ],
   "source": [
    "# Użyj danych z sekcji \"Input\" (patrz poniżej)\n",
    "\n",
    "# Stwórz my_set: set reprezentujący pierwszy wiersz\n",
    "\n",
    "# Wartości z drugiego wiersza dodawaj do my_set za pomocą .add()\n",
    "\n",
    "# Na podstawie trzeciego wiersza stwórz set i dodaj go za pomocą .update()\n",
    "\n",
    "# Na podstawie czwartego wiersza stwórz tuple i dodaj go za pomocą .update()\n",
    "\n",
    "# Na podstawie piątego wiersza stwórz list i dodaj go za pomocą .update()\n",
    "\n",
    "my_set = {5.8,2.7,5.1,1.9,\"virginica\"}\n",
    "print(my_set)\n",
    "\n",
    "my_set.add(5.1)\n",
    "my_set.add(3.5)\n",
    "my_set.add(1.4)\n",
    "my_set.add(0.2)\n",
    "my_set.add('setosa')\n",
    "print(my_set)\n",
    "\n",
    "my_set.update({5.7, 2.8, 4.1, 1.3, 'versicolor'})\n",
    "\n",
    "print(my_set)\n",
    "my_set.update((6.3, 2.9, 5.6, 1.8, 'virginica'))\n",
    "\n",
    "print(my_set)\n",
    "my_set.update([6.4, 3.2, 4.5, 1.5, 'versicolor'])\n",
    "\n",
    "print(my_set)\n"
   ]
  },
  {
   "cell_type": "code",
   "execution_count": 11,
   "metadata": {},
   "outputs": [],
   "source": [
    "# Użyj danych z sekcji \"Input\" (patrz poniżej)\n",
    "\n",
    "# Zapisz nagłówek (pierwsza linia) do zmiennej header: tuple\n",
    "\n",
    "# Stwórz result: list\n",
    "\n",
    "# Przekonwertuj do list dane z wierszy o indeksach 2, 6, 9 i dodaj do result\n",
    "\n",
    "# Przekonwertuj do tuple dane z wierszy o indeksach 12, 15, 16 i dodaj do result\n",
    "\n",
    "# Dodaj pusty set, list oraz tuple do result\n",
    "\n",
    "# Użyj tylko indeksów\n",
    "\n",
    "# Nie używaj for, while lub slice()\n",
    "\n",
    "# Porównaj wyniki z sekcją \"Output\" (patrz poniżej)\n",
    "\n",
    "\n",
    "DATA = [\n",
    "    ('Sepal length', 'Sepal width', 'Petal length', 'Petal width', 'Species'),\n",
    "    (5.8, 2.7, 5.1, 1.9, 'virginica'),\n",
    "    (5.1, 3.5, 1.4, 0.2, 'setosa'),\n",
    "    (5.7, 2.8, 4.1, 1.3, 'versicolor'),\n",
    "    (6.3, 2.9, 5.6, 1.8, 'virginica'),\n",
    "    (6.4, 3.2, 4.5, 1.5, 'versicolor'),\n",
    "    (4.7, 3.2, 1.3, 0.2, 'setosa'),\n",
    "    (7.0, 3.2, 4.7, 1.4, 'versicolor'),\n",
    "    (7.6, 3.0, 6.6, 2.1, 'virginica'),\n",
    "    (4.9, 3.0, 1.4, 0.2, 'setosa'),\n",
    "    (4.9, 2.5, 4.5, 1.7, 'virginica'),\n",
    "    (7.1, 3.0, 5.9, 2.1, 'virginica'),\n",
    "    (4.6, 3.4, 1.4, 0.3, 'setosa'),\n",
    "    (5.4, 3.9, 1.7, 0.4, 'setosa'),\n",
    "    (5.7, 2.8, 4.5, 1.3, 'versicolor'),\n",
    "    (5.0, 3.6, 1.4, 0.3, 'setosa'),\n",
    "    (5.5, 2.3, 4.0, 1.3, 'versicolor'),\n",
    "    (6.5, 3.0, 5.8, 2.2, 'virginica'),\n",
    "    (6.5, 2.8, 4.6, 1.5, 'versicolor'),\n",
    "    (6.3, 3.3, 6.0, 2.5, 'virginica'),\n",
    "    (6.9, 3.1, 4.9, 1.5, 'versicolor'),\n",
    "    (4.6, 3.1, 1.5, 0.2, 'setosa'),\n",
    "]"
   ]
  },
  {
   "cell_type": "code",
   "execution_count": 12,
   "metadata": {},
   "outputs": [
    {
     "name": "stdout",
     "output_type": "stream",
     "text": [
      "('Sepal length', 'Sepal width', 'Petal length', 'Petal width', 'Species')\n"
     ]
    }
   ],
   "source": [
    "header=tuple(DATA[0])\n",
    "print(header)"
   ]
  },
  {
   "cell_type": "code",
   "execution_count": 29,
   "metadata": {},
   "outputs": [
    {
     "data": {
      "text/plain": [
       "[]"
      ]
     },
     "execution_count": 29,
     "metadata": {},
     "output_type": "execute_result"
    }
   ],
   "source": [
    "result=list()\n",
    "result"
   ]
  },
  {
   "cell_type": "code",
   "execution_count": 30,
   "metadata": {},
   "outputs": [
    {
     "data": {
      "text/plain": [
       "[[5.1, 3.5, 1.4, 0.2, 'setosa'],\n",
       " [4.7, 3.2, 1.3, 0.2, 'setosa'],\n",
       " [4.9, 3.0, 1.4, 0.2, 'setosa']]"
      ]
     },
     "execution_count": 30,
     "metadata": {},
     "output_type": "execute_result"
    }
   ],
   "source": [
    "result.append(list(DATA[2]))\n",
    "result.append(list(DATA[6]))\n",
    "result.append(list(DATA[9]))\n",
    "result"
   ]
  },
  {
   "cell_type": "code",
   "execution_count": 31,
   "metadata": {},
   "outputs": [
    {
     "data": {
      "text/plain": [
       "[[5.1, 3.5, 1.4, 0.2, 'setosa'],\n",
       " [4.7, 3.2, 1.3, 0.2, 'setosa'],\n",
       " [4.9, 3.0, 1.4, 0.2, 'setosa'],\n",
       " (5.1, 3.5, 1.4, 0.2, 'setosa'),\n",
       " (4.7, 3.2, 1.3, 0.2, 'setosa'),\n",
       " (4.9, 3.0, 1.4, 0.2, 'setosa')]"
      ]
     },
     "execution_count": 31,
     "metadata": {},
     "output_type": "execute_result"
    }
   ],
   "source": [
    "result.append(tuple(DATA[2]))\n",
    "result.append(tuple(DATA[6]))\n",
    "result.append(tuple(DATA[9]))\n",
    "result"
   ]
  },
  {
   "cell_type": "code",
   "execution_count": 32,
   "metadata": {},
   "outputs": [
    {
     "data": {
      "text/plain": [
       "[[5.1, 3.5, 1.4, 0.2, 'setosa'],\n",
       " [4.7, 3.2, 1.3, 0.2, 'setosa'],\n",
       " [4.9, 3.0, 1.4, 0.2, 'setosa'],\n",
       " (5.1, 3.5, 1.4, 0.2, 'setosa'),\n",
       " (4.7, 3.2, 1.3, 0.2, 'setosa'),\n",
       " (4.9, 3.0, 1.4, 0.2, 'setosa'),\n",
       " set(),\n",
       " [],\n",
       " ()]"
      ]
     },
     "execution_count": 32,
     "metadata": {},
     "output_type": "execute_result"
    }
   ],
   "source": [
    "result.append(set())\n",
    "result.append(list())\n",
    "result.append(tuple())\n",
    "result"
   ]
  },
  {
   "cell_type": "code",
   "execution_count": 34,
   "metadata": {},
   "outputs": [
    {
     "data": {
      "text/plain": [
       "[[5.1, 3.5, 1.4, 0.2, 'setosa'],\n",
       " [4.7, 3.2, 1.3, 0.2, 'setosa'],\n",
       " [4.9, 3.0, 1.4, 0.2, 'setosa'],\n",
       " (4.6, 3.4, 1.4, 0.3, 'setosa'),\n",
       " (5.0, 3.6, 1.4, 0.3, 'setosa'),\n",
       " (5.5, 2.3, 4.0, 1.3, 'versicolor'),\n",
       " set(),\n",
       " [],\n",
       " ()]"
      ]
     },
     "execution_count": 34,
     "metadata": {},
     "output_type": "execute_result"
    }
   ],
   "source": [
    "result_all = [\n",
    "    list(DATA[2]),\n",
    "    list(DATA[6]),\n",
    "    list(DATA[9]),\n",
    "    tuple(DATA[12]),\n",
    "    tuple(DATA[15]),\n",
    "    tuple(DATA[16]),\n",
    "    set(),\n",
    "    list(),\n",
    "    tuple(),\n",
    "]\n",
    "result_all"
   ]
  },
  {
   "cell_type": "code",
   "execution_count": 37,
   "metadata": {},
   "outputs": [
    {
     "name": "stdout",
     "output_type": "stream",
     "text": [
      "1\n",
      "2\n",
      "3\n",
      "[1, 2]\n",
      "3\n",
      "4\n"
     ]
    }
   ],
   "source": [
    "a, b, c = [1, 2, 3]\n",
    "print(a)\n",
    "print(b)\n",
    "print(c)\n",
    "*a, b, c = [1, 2, 3, 4]\n",
    "print(a)\n",
    "print(b)\n",
    "print(c)"
   ]
  },
  {
   "cell_type": "code",
   "execution_count": 40,
   "metadata": {},
   "outputs": [
    {
     "name": "stdout",
     "output_type": "stream",
     "text": [
      "twardowski\n",
      "/home/twardowski\n"
     ]
    }
   ],
   "source": [
    "line = 'twardowski:x:1001:1001:Jan Twardowski:/home/twardowski:/bin/bash'\n",
    "\n",
    "username, *_, home, _ = line.split(':')\n",
    "print(username)\n",
    "print(home)"
   ]
  },
  {
   "cell_type": "code",
   "execution_count": 42,
   "metadata": {},
   "outputs": [
    {
     "name": "stdout",
     "output_type": "stream",
     "text": [
      "twardowski\n",
      "Jan Twardowski\n"
     ]
    }
   ],
   "source": [
    "line = 'twardowski:x:1001:1001:Jan Twardowski:/home/twardowski:/bin/bash'\n",
    "\n",
    "username, _, _, _, full_name, *_ = line.split(':')\n",
    "print(username)\n",
    "print(full_name)"
   ]
  },
  {
   "cell_type": "code",
   "execution_count": 43,
   "metadata": {},
   "outputs": [],
   "source": [
    "DATA1 = '10.13.37.1      nasa.gov esa.int roscosmos.ru'"
   ]
  },
  {
   "cell_type": "code",
   "execution_count": 77,
   "metadata": {},
   "outputs": [
    {
     "name": "stdout",
     "output_type": "stream",
     "text": [
      "10.13.37.1\n",
      "['nasa.gov', 'esa.int', 'roscosmos.ru']\n"
     ]
    }
   ],
   "source": [
    "ip,*hosts = DATA1.split()\n",
    "print(ip)\n",
    "print(hosts)"
   ]
  },
  {
   "cell_type": "code",
   "execution_count": 69,
   "metadata": {},
   "outputs": [],
   "source": [
    "# Użyj danych z sekcji \"Input\" (patrz poniżej)\n",
    "\n",
    "# Oddziel nagłówek i rekordy\n",
    "\n",
    "# Skorzystaj z konstrukcji z gwiazdką *\n",
    "\n",
    "# Porównaj wyniki z sekcją \"Output\" (patrz poniżej)\n",
    "\n",
    "DATA = [\n",
    "    ('Sepal length', 'Sepal width', 'Petal length', 'Petal width', 'Species'),\n",
    "    (5.8, 2.7, 5.1, 1.9, 'virginica'),\n",
    "    (5.1, 3.5, 1.4, 0.2, 'setosa'),\n",
    "    (5.7, 2.8, 4.1, 1.3, 'versicolor'),\n",
    "    (6.3, 2.9, 5.6, 1.8, 'virginica'),\n",
    "    (6.4, 3.2, 4.5, 1.5, 'versicolor'),\n",
    "    (4.7, 3.2, 1.3, 0.2, 'setosa'),\n",
    "    (7.0, 3.2, 4.7, 1.4, 'versicolor'),\n",
    "    (7.6, 3.0, 6.6, 2.1, 'virginica'),\n",
    "    (4.9, 3.0, 1.4, 0.2, 'setosa'),\n",
    "    (4.9, 2.5, 4.5, 1.7, 'virginica'),\n",
    "    (7.1, 3.0, 5.9, 2.1, 'virginica'),\n",
    "    (4.6, 3.4, 1.4, 0.3, 'setosa'),\n",
    "    (5.4, 3.9, 1.7, 0.4, 'setosa'),\n",
    "    (5.7, 2.8, 4.5, 1.3, 'versicolor'),\n",
    "    (5.0, 3.6, 1.4, 0.3, 'setosa'),\n",
    "    (5.5, 2.3, 4.0, 1.3, 'versicolor'),\n",
    "    (6.5, 3.0, 5.8, 2.2, 'virginica'),\n",
    "    (6.5, 2.8, 4.6, 1.5, 'versicolor'),\n",
    "    (6.3, 3.3, 6.0, 2.5, 'virginica'),\n",
    "    (6.9, 3.1, 4.9, 1.5, 'versicolor'),\n",
    "    (4.6, 3.1, 1.5, 0.2, 'setosa'),\n",
    "]"
   ]
  },
  {
   "cell_type": "code",
   "execution_count": 76,
   "metadata": {},
   "outputs": [
    {
     "name": "stdout",
     "output_type": "stream",
     "text": [
      "header =  ('Sepal length', 'Sepal width', 'Petal length', 'Petal width', 'Species')\n",
      "data =  [(5.8, 2.7, 5.1, 1.9, 'virginica'), (5.1, 3.5, 1.4, 0.2, 'setosa'), (5.7, 2.8, 4.1, 1.3, 'versicolor'), (6.3, 2.9, 5.6, 1.8, 'virginica'), (6.4, 3.2, 4.5, 1.5, 'versicolor'), (4.7, 3.2, 1.3, 0.2, 'setosa'), (7.0, 3.2, 4.7, 1.4, 'versicolor'), (7.6, 3.0, 6.6, 2.1, 'virginica'), (4.9, 3.0, 1.4, 0.2, 'setosa'), (4.9, 2.5, 4.5, 1.7, 'virginica'), (7.1, 3.0, 5.9, 2.1, 'virginica'), (4.6, 3.4, 1.4, 0.3, 'setosa'), (5.4, 3.9, 1.7, 0.4, 'setosa'), (5.7, 2.8, 4.5, 1.3, 'versicolor'), (5.0, 3.6, 1.4, 0.3, 'setosa'), (5.5, 2.3, 4.0, 1.3, 'versicolor'), (6.5, 3.0, 5.8, 2.2, 'virginica'), (6.5, 2.8, 4.6, 1.5, 'versicolor'), (6.3, 3.3, 6.0, 2.5, 'virginica'), (6.9, 3.1, 4.9, 1.5, 'versicolor'), (4.6, 3.1, 1.5, 0.2, 'setosa')]\n"
     ]
    }
   ],
   "source": [
    "header,*data = DATA\n",
    "print(\"header = \",header)\n",
    "print(\"data = \",data)"
   ]
  },
  {
   "cell_type": "code",
   "execution_count": 78,
   "metadata": {},
   "outputs": [],
   "source": [
    "# Stwórz tuplę a z cyframi: 0, 1, 2, 3\n",
    "\n",
    "# Stwórz listę b z cyframi: 2, 3, 4, 5\n",
    "\n",
    "# Stwórz zbiór c z co drugim elementem a i b\n",
    "\n",
    "# Wypisz c\n",
    "\n",
    "# Porównaj wyniki z sekcją \"Output\" (patrz poniżej)"
   ]
  },
  {
   "cell_type": "code",
   "execution_count": 88,
   "metadata": {},
   "outputs": [
    {
     "data": {
      "text/plain": [
       "{0, 2, 4}"
      ]
     },
     "execution_count": 88,
     "metadata": {},
     "output_type": "execute_result"
    }
   ],
   "source": [
    "a = (0, 1, 2, 3)\n",
    "b=[2,3,4,5]\n",
    "c=set()\n",
    "c.update(a[::2], b[::2])\n",
    "c"
   ]
  },
  {
   "cell_type": "code",
   "execution_count": 89,
   "metadata": {},
   "outputs": [],
   "source": [
    "# Użyj danych z sekcji \"Input\" (patrz poniżej)\n",
    "\n",
    "# Zapisz nagłówek (pierwsza linia) do zmiennej header\n",
    "\n",
    "# Zapisz dane bez nagłówka do zmiennej data\n",
    "\n",
    "# Wylicz punkt podziału: ilość rekordów w data razy PROCENT (proporcja podziału poniżej)\n",
    "\n",
    "# Podziel data na dwie listy:\n",
    "\n",
    "# train: 60% - dane do uczenia\n",
    "\n",
    "# test: 40% - dane do testów\n",
    "\n",
    "# Z data zapisz do uczenia rekordy od początku do punktu podziału\n",
    "\n",
    "# Z data zapisz do testów rekordy od punktu podziału do końca\n",
    "\n",
    "# Porównaj wyniki z sekcją \"Output\" (patrz poniżej)"
   ]
  },
  {
   "cell_type": "code",
   "execution_count": 91,
   "metadata": {},
   "outputs": [
    {
     "name": "stdout",
     "output_type": "stream",
     "text": [
      "('Sepal length', 'Sepal width', 'Petal length', 'Petal width', 'Species')\n",
      "[(5.8, 2.7, 5.1, 1.9, 'virginica'), (5.1, 3.5, 1.4, 0.2, 'setosa'), (5.7, 2.8, 4.1, 1.3, 'versicolor'), (6.3, 2.9, 5.6, 1.8, 'virginica'), (6.4, 3.2, 4.5, 1.5, 'versicolor'), (4.7, 3.2, 1.3, 0.2, 'setosa'), (7.0, 3.2, 4.7, 1.4, 'versicolor'), (7.6, 3.0, 6.6, 2.1, 'virginica'), (4.9, 3.0, 1.4, 0.2, 'setosa'), (4.9, 2.5, 4.5, 1.7, 'virginica'), (7.1, 3.0, 5.9, 2.1, 'virginica'), (4.6, 3.4, 1.4, 0.3, 'setosa'), (5.4, 3.9, 1.7, 0.4, 'setosa'), (5.7, 2.8, 4.5, 1.3, 'versicolor'), (5.0, 3.6, 1.4, 0.3, 'setosa'), (5.5, 2.3, 4.0, 1.3, 'versicolor'), (6.5, 3.0, 5.8, 2.2, 'virginica'), (6.5, 2.8, 4.6, 1.5, 'versicolor'), (6.3, 3.3, 6.0, 2.5, 'virginica'), (6.9, 3.1, 4.9, 1.5, 'versicolor'), (4.6, 3.1, 1.5, 0.2, 'setosa')]\n"
     ]
    }
   ],
   "source": [
    "header=DATA[0]\n",
    "data=DATA[1:]\n",
    "print(header)\n",
    "print(data)"
   ]
  },
  {
   "cell_type": "code",
   "execution_count": 119,
   "metadata": {},
   "outputs": [
    {
     "data": {
      "text/plain": [
       "[(5.8, 2.7, 5.1, 1.9, 'virginica'),\n",
       " (5.1, 3.5, 1.4, 0.2, 'setosa'),\n",
       " (5.7, 2.8, 4.1, 1.3, 'versicolor'),\n",
       " (6.3, 2.9, 5.6, 1.8, 'virginica'),\n",
       " (6.4, 3.2, 4.5, 1.5, 'versicolor'),\n",
       " (4.7, 3.2, 1.3, 0.2, 'setosa'),\n",
       " (7.0, 3.2, 4.7, 1.4, 'versicolor'),\n",
       " (7.6, 3.0, 6.6, 2.1, 'virginica'),\n",
       " (4.9, 3.0, 1.4, 0.2, 'setosa'),\n",
       " (4.9, 2.5, 4.5, 1.7, 'virginica'),\n",
       " (7.1, 3.0, 5.9, 2.1, 'virginica'),\n",
       " (4.6, 3.4, 1.4, 0.3, 'setosa')]"
      ]
     },
     "execution_count": 119,
     "metadata": {},
     "output_type": "execute_result"
    }
   ],
   "source": [
    "procent=.6\n",
    "train=data[0:int(len(data)*procent)]\n",
    "train"
   ]
  },
  {
   "cell_type": "code",
   "execution_count": 120,
   "metadata": {},
   "outputs": [
    {
     "data": {
      "text/plain": [
       "[(5.4, 3.9, 1.7, 0.4, 'setosa'),\n",
       " (5.7, 2.8, 4.5, 1.3, 'versicolor'),\n",
       " (5.0, 3.6, 1.4, 0.3, 'setosa'),\n",
       " (5.5, 2.3, 4.0, 1.3, 'versicolor'),\n",
       " (6.5, 3.0, 5.8, 2.2, 'virginica'),\n",
       " (6.5, 2.8, 4.6, 1.5, 'versicolor'),\n",
       " (6.3, 3.3, 6.0, 2.5, 'virginica'),\n",
       " (6.9, 3.1, 4.9, 1.5, 'versicolor'),\n",
       " (4.6, 3.1, 1.5, 0.2, 'setosa')]"
      ]
     },
     "execution_count": 120,
     "metadata": {},
     "output_type": "execute_result"
    }
   ],
   "source": [
    "test=data[int(len(data)*procent):]\n",
    "test"
   ]
  },
  {
   "cell_type": "code",
   "execution_count": 121,
   "metadata": {},
   "outputs": [],
   "source": [
    "# Użyj danych z sekcji \"Input\" (patrz poniżej)\n",
    "\n",
    "# Stwórz tłumacza alfabetu pilotów\n",
    "\n",
    "# Pojedynczym literom przyporządkuj ich fonetyczne odpowiedniki\n",
    "\n",
    "# Do przekonwertowania tabelki wykorzystaj zaznaczanie wielu linijek za pomocą klawisza alt w Twoim IDE (jeżeli skrót klawiszowy nie działa w Twoim IDE, użyj tylko cztery pierwsze litery)\n",
    "\n",
    "# Poproś użytkownika o wprowadzenie litery\n",
    "\n",
    "# Użytkownik zawsze poda tylko jedną dużą literę lub cyfrę\n",
    "\n",
    "# Wypisz fonetyczną wymowę litery\n",
    "\n",
    "# Jeżeli wpisał znak, który nie występuje w alfabecie, wypisz: \"Pilots don't say that\"\n",
    "\n",
    "# Nie używaj if, try ani except"
   ]
  },
  {
   "cell_type": "code",
   "execution_count": 129,
   "metadata": {},
   "outputs": [],
   "source": [
    "alfabet={\"A\" : \"Alfa\",\n",
    "\"B\":\"Bravo\",\n",
    "\"C\": \"Charlie\",\n",
    "\"D\": \"Delta\",\n",
    "\"E\": \"Echo\",\n",
    "\"F\": \"Foxtrot\",\n",
    "\"G\": \"Golf\",\n",
    "\"H\": \"Hotel\",\n",
    "\"I\": \"India\",\n",
    "\"J\": \"Juliet\",\n",
    "\"K\": \"Kilo\",\n",
    "\"L\": \"Lima\",\n",
    "\"M\": \"Mike\",\n",
    "\"N\": \"November\",\n",
    "\"O\": \"Oscar\",\n",
    "\"P\": \"Papa\",\n",
    "\"Q\": \"Quebec\",\n",
    "\"R\": \"Romeo\",\n",
    "\"S\": \"Sierra\",\n",
    "\"T\": \"Tango\",\n",
    "\"U\": \"Uniform\",\n",
    "\"V\": \"Victor\",\n",
    "\"W\": \"Whisky\",\n",
    "\"X\": \"X-Ray\",\n",
    "\"Y\": \"Yankee\",\n",
    "\"Z\": \"Zulu\"}"
   ]
  },
  {
   "cell_type": "code",
   "execution_count": 141,
   "metadata": {},
   "outputs": [
    {
     "name": "stdout",
     "output_type": "stream",
     "text": [
      "Wskaż litere : Z\n",
      "Litera jest w alfabecie i brzmi Zulu\n"
     ]
    }
   ],
   "source": [
    "litera=input(\"Wskaż litere : \")\n",
    "if litera in alfabet :\n",
    "    fonetyka=alfabet[litera]\n",
    "    print(f\"Litera jest w alfabecie i brzmi {fonetyka}\")\n",
    "else :\n",
    "    print(\"Pilots don't say that\")"
   ]
  },
  {
   "cell_type": "code",
   "execution_count": 139,
   "metadata": {},
   "outputs": [
    {
     "name": "stdout",
     "output_type": "stream",
     "text": [
      "Wskaż litere : Ś\n"
     ]
    },
    {
     "data": {
      "text/plain": [
       "\"Pilots don't say that\""
      ]
     },
     "execution_count": 139,
     "metadata": {},
     "output_type": "execute_result"
    }
   ],
   "source": [
    "alfabet.get(input(\"Wskaż litere : \").strip(),\"Pilots don't say that\")"
   ]
  },
  {
   "cell_type": "code",
   "execution_count": 142,
   "metadata": {},
   "outputs": [],
   "source": [
    "# Wczytaj liczbę od użytkownika\n",
    "\n",
    "# Użytkownika poda tylko poprawne int\n",
    "\n",
    "# Liczba jest parzysta, gdy dzielona modulo (%) przez 2 ma resztę równą 0\n",
    "\n",
    "# Wypisz czy liczba jest nieparzysta\n",
    "\n",
    "# Nie używaj instrukcji if"
   ]
  },
  {
   "cell_type": "code",
   "execution_count": 143,
   "metadata": {},
   "outputs": [
    {
     "name": "stdout",
     "output_type": "stream",
     "text": [
      "Podaj Liczbe: 10\n"
     ]
    },
    {
     "data": {
      "text/plain": [
       "True"
      ]
     },
     "execution_count": 143,
     "metadata": {},
     "output_type": "execute_result"
    }
   ],
   "source": [
    "liczba=input(\"Podaj Liczbe: \")\n",
    "liczba=int(liczba)\n",
    "liczba % 2 ==0"
   ]
  },
  {
   "cell_type": "code",
   "execution_count": 144,
   "metadata": {},
   "outputs": [
    {
     "data": {
      "text/plain": [
       "'Witaj 10'"
      ]
     },
     "execution_count": 144,
     "metadata": {},
     "output_type": "execute_result"
    }
   ],
   "source": [
    "'Witaj %s' % liczba #Wstawianie Stringa"
   ]
  },
  {
   "cell_type": "code",
   "execution_count": 145,
   "metadata": {},
   "outputs": [],
   "source": [
    "# Poproś użytkownika o wprowadzenie swojego wieku\n",
    "\n",
    "# Użytkownika poda tylko poprawne int\n",
    "\n",
    "# Wypisz czy użytkownik jest pełnoletni"
   ]
  },
  {
   "cell_type": "code",
   "execution_count": 148,
   "metadata": {},
   "outputs": [
    {
     "name": "stdout",
     "output_type": "stream",
     "text": [
      "Podaj swój wiek: 27\n",
      "Użytkownik jest pełnoletni\n"
     ]
    }
   ],
   "source": [
    "wiek=int(input('Podaj swój wiek: ').strip())\n",
    "wiek_pelnoletnosci = 18\n",
    "if wiek >= wiek_pelnoletnosci :\n",
    "    print('Użytkownik jest pełnoletni')\n",
    "else :\n",
    "    print(\"Użytkownik nie jest pełnoletni\")"
   ]
  },
  {
   "cell_type": "code",
   "execution_count": 1,
   "metadata": {},
   "outputs": [],
   "source": [
    "### HOMERWORK ### 5.4.4.a. Classification of blood pressure in adults\n",
    "\n",
    "# Użyj danych z sekcji \"Input\" (patrz poniżej)\n",
    "\n",
    "# Tabela zawiera klasyfikację ciśnienia krwi wg American Heart Association [Weal18]\n",
    "\n",
    "# Użytkownik wprowadza ciśnienie krwi w formacie XXX/YY lub XXX/YYY\n",
    "\n",
    "# Użytkownik nie będzie wprowadzał danych niepoprawnych\n",
    "\n",
    "# Format danych:\n",
    "\n",
    "# XXX: int to wartość ciśnienia skurczowego (ang. systolic)\n",
    "\n",
    "# YY: int lub YYY: int to wartość ciśnienia rozkurczowego (ang. diastolic)\n",
    "\n",
    "# Wypisz status wprowadzonego ciśnienia krwi\n",
    "\n",
    "# Gdy wartości ciśnienia skurczowego i rozkurczowego należą do różnych kategorii, przyjmij gorszy przypadek\n",
    "\n",
    "# (z gwiazdką)\n",
    "\n"
   ]
  },
  {
   "cell_type": "code",
   "execution_count": 44,
   "metadata": {},
   "outputs": [
    {
     "name": "stdout",
     "output_type": "stream",
     "text": [
      "Wprowadź swoje ciśnienie : 180/120\n",
      "180/120 : (Hypertension stage 2 ,Hypertensive Crisis)\n"
     ]
    }
   ],
   "source": [
    "output=input('Wprowadź swoje ciśnienie : ')\n",
    "\n",
    "\n",
    "systolic_num, diastolic_num = output.strip().split('/')\n",
    "systolic_num = int(systolic_num)\n",
    "diastolic_num = int(diastolic_num)\n",
    "\n",
    "if systolic_num < 120 and diastolic_num < 80 :\n",
    "    print(f'{output} : Normal')\n",
    "elif 120 <= systolic_num <= 129 and diastolic_num < 80 :\n",
    "    print(f'{output} : Elevated' )\n",
    "elif 130 <= systolic_num <= 139 or 80 >= diastolic_num < 89 :\n",
    "    print(f'{output} : Hypertension stage 1' )\n",
    "elif systolic_num >= 140 or diastolic_num >= 90 :\n",
    "    if systolic_num >= 180 or diastolic_num >= 120 :\n",
    "        print(f'{output} : (Hypertension stage 2',',Hypertensive Crisis)')\n",
    "    else : \n",
    "        print(f'{output} : Hypertension stage 2')\n",
    "else : print('złe numery')"
   ]
  },
  {
   "cell_type": "code",
   "execution_count": 46,
   "metadata": {},
   "outputs": [],
   "source": [
    "### HOMERWORK ### 6.1.4.c. Loop While Input. Report card\n",
    "\n",
    "# Użyj danych z sekcji \"Input\" (patrz poniżej)\n",
    "\n",
    "# Przekonwertuj DATA do List[float] używając pętli while i nazwij grade_scale\n",
    "\n",
    "# Poproś użytkownika o ocenę, jedną na raz\n",
    "\n",
    "# Użytkownik poda tylko poprawne int lub float\n",
    "\n",
    "# Jeżeli ocena jest na nowej skali - dodaj ją do dzienniczka\n",
    "\n",
    "# Jeżeli oceny nie ma na liście - wyświetl \"Grade is not allowed\" i kontynuuj wpisywanie\n",
    "\n",
    "# Jeżeli użytkownik wcisnął Enter, zakończ wprowadzanie danych\n",
    "\n",
    "# Na zakończenie wyświetl wyliczoną dla dzienniczka średnią arytmetyczną\n",
    "\n",
    "# Przetestuj przypadek, gdy dzienniczek jest pusty\n",
    "\n",
    "dane = (2, 3, 3.5, 4, 4.5, 5)"
   ]
  },
  {
   "cell_type": "code",
   "execution_count": 48,
   "metadata": {},
   "outputs": [
    {
     "name": "stdout",
     "output_type": "stream",
     "text": [
      "What grade you received?: \n",
      "Empty report card\n"
     ]
    }
   ],
   "source": [
    "GRADE_SCALE = []\n",
    "report_card = []\n",
    "\n",
    "inputs = 0\n",
    "\n",
    "while inputs < len(dane):\n",
    "    grade = float(dane[inputs])\n",
    "    GRADE_SCALE.append(grade)\n",
    "    inputs += 1\n",
    "\n",
    "while True:\n",
    "    grade = input('What grade you received?: ')\n",
    "\n",
    "    if not grade:\n",
    "        break\n",
    "\n",
    "    grade = float(grade)\n",
    "\n",
    "    if grade in GRADE_SCALE:\n",
    "        report_card.append(grade)\n",
    "    else:\n",
    "        print('Grade is not allowed')\n",
    "\n",
    "if report_card:\n",
    "    mean = sum(report_card) / len(report_card)\n",
    "    print(f'Mean: {mean}')\n",
    "else:\n",
    "    print('Empty report card')"
   ]
  },
  {
   "cell_type": "code",
   "execution_count": 152,
   "metadata": {},
   "outputs": [],
   "source": [
    "# Użyj danych z sekcji \"Input\" (patrz poniżej)\n",
    "\n",
    "# Iteruj po DATA\n",
    "\n",
    "# Policz wystąpienia każdej z cyfr\n",
    "\n",
    "# Stwórz pusty counter: Dict[int, int]:\n",
    "\n",
    "# klucz - cyfra\n",
    "\n",
    "# wartość - liczba wystąpień\n",
    "\n",
    "# Iterując po cyfrach sprawdź czy cyfra znajduje się już w counter\n",
    "\n",
    "# Jeżeli pierwsze wystąpienie, to dodaj ją do counter z wartością 1\n",
    "\n",
    "# Jeżeli istnieje, to zwiększ w wartość o 1\n",
    "\n",
    "# Porównaj wynik z sekcją \"Output\" poniżej\n",
    "\n",
    "dane = [1, 4, 6, 7, 4, 4, 4, 5, 1, 7, 0,\n",
    "        0, 6, 5, 0, 0, 9, 7, 0, 4, 4, 8,\n",
    "        2, 4, 0, 0, 1, 9, 1, 7, 8, 8, 9,\n",
    "        1, 3, 5, 6, 8, 2, 8, 1, 3, 9, 5,\n",
    "        4, 8, 1, 9, 6, 3]"
   ]
  },
  {
   "cell_type": "code",
   "execution_count": 159,
   "metadata": {},
   "outputs": [
    {
     "name": "stdout",
     "output_type": "stream",
     "text": [
      "{1: 7, 4: 8, 6: 4, 7: 4, 5: 4, 0: 7, 9: 5, 8: 6, 2: 2, 3: 3}\n"
     ]
    }
   ],
   "source": [
    "counter={}\n",
    "for cyfra in dane :\n",
    "    if cyfra not in counter :\n",
    "        counter[cyfra]=1\n",
    "    else :\n",
    "        counter[cyfra]+=1\n",
    "print(counter)"
   ]
  },
  {
   "cell_type": "code",
   "execution_count": 160,
   "metadata": {},
   "outputs": [],
   "source": [
    "# Użyj danych z sekcji \"Input\" (patrz poniżej)\n",
    "\n",
    "# Policz wystąpienia każdej z group\n",
    "\n",
    "# Zdefiniuj grupy\n",
    "\n",
    "# small - liczby z przedziału <0-3)\n",
    "\n",
    "# medium - liczby z przedziału <3-7)\n",
    "\n",
    "# large - liczby z przedziału <7-9>\n",
    "\n",
    "# Wypisz counter: Dict[str, int]:\n",
    "\n",
    "# klucz - grupa\n",
    "\n",
    "# wartość - liczba wystąpień\n",
    "\n",
    "# Porównaj wynik z sekcją \"Output\" poniżej\n",
    "\n",
    "dane = [1, 4, 6, 7, 4, 4, 4, 5, 1, 7, 0,\n",
    "        0, 6, 5, 0, 0, 9, 7, 0, 4, 4, 8,\n",
    "        2, 4, 0, 0, 1, 9, 1, 7, 8, 8, 9,\n",
    "        1, 3, 5, 6, 8, 2, 8, 1, 3, 9, 5,\n",
    "        4, 8, 1, 9, 6, 3]"
   ]
  },
  {
   "cell_type": "code",
   "execution_count": 176,
   "metadata": {},
   "outputs": [
    {
     "name": "stdout",
     "output_type": "stream",
     "text": [
      "{'small': 16, 'medium': 19, 'large': 15}\n"
     ]
    }
   ],
   "source": [
    "small=(0,1,2)\n",
    "medium=(3,4,5,6)\n",
    "large=(7,8,9)\n",
    "counter2={\n",
    "    \"small\" : 0,\n",
    "    \"medium\" : 0,\n",
    "    \"large\" : 0\n",
    "}\n",
    "for cyfra in dane :\n",
    "    if cyfra in small:\n",
    "        counter2['small']+=1\n",
    "    elif cyfra in medium:\n",
    "        counter2['medium']+=1\n",
    "    elif cyfra in large :\n",
    "        counter2['large']+=1\n",
    "    else :\n",
    "        print('Error : liczba poza zakresem')\n",
    "print(counter2)"
   ]
  },
  {
   "cell_type": "code",
   "execution_count": 177,
   "metadata": {},
   "outputs": [],
   "source": [
    "#### result = [<RETURN> for <VARIABLE> in <ITERABLE>] ####"
   ]
  },
  {
   "cell_type": "code",
   "execution_count": 178,
   "metadata": {},
   "outputs": [],
   "source": [
    "# list(x for x in range(0,5))        # [0, 1, 2, 3, 4]\n",
    "# [x for x in range(0,5)]            # [0, 1, 2, 3, 4]\n",
    "\n",
    "# set(x for x in range(0,5))         # {0, 1, 2, 3, 4}\n",
    "# {x for x in range(0,5)}            # {0, 1, 2, 3, 4}\n",
    "\n",
    "# dict((x,x) for x in range(0,5))    # {0: 0, 1: 1, 2: 2, 3: 3, 4: 4}\n",
    "# {x: x for x in range(0,5)}         # {0: 0, 1: 1, 2: 2, 3: 3, 4: 4}\n",
    "\n",
    "# tuple(x for x in range(0,5))       # (0, 1, 2, 3, 4)\n",
    "# (x for x in range(0,5))            # <generator object <genexpr> at 0x118c1aed0>\n",
    "# (x for x in range(0,5)) .next - dla generatorów kolejny krok"
   ]
  },
  {
   "cell_type": "code",
   "execution_count": 179,
   "metadata": {},
   "outputs": [],
   "source": [
    "# Użyj danych z sekcji \"Input\" (patrz poniżej)\n",
    "\n",
    "# Odseparuj nagłówek od danych\n",
    "\n",
    "# Wylicz punkt podziału: długość danych razy zadany procent\n",
    "\n",
    "# Używając List Comprehension podziel dane na:\n",
    "\n",
    "# features: List[tuple] - lista pomiarów (każdy wiersz z pomiarami ma być tuple)\n",
    "\n",
    "# labels: List[str] - lista nazw gatunków\n",
    "\n",
    "# Podziel te struktury danych w proporcji:\n",
    "\n",
    "# features_train: List[tuple] - features do uczenia - 60%\n",
    "\n",
    "# features_test: List[tuple] - features do testów - 40%\n",
    "\n",
    "# labels_train: List[str] - labels do uczenia - 60%\n",
    "\n",
    "# labels_test: List[str] - labels do testów - 40%\n",
    "\n",
    "# Stwórz result: Tuple[list, list, list, list] z cechami (treningowymi i testowymi) oraz labelkami (treningowymi i testowymi)\n",
    "\n",
    "# Wypisz result\n",
    "\n",
    "# Porównaj wynik z sekcją \"Output\" poniżej\n",
    "\n",
    "DATA = [\n",
    "    ('Sepal length', 'Sepal width', 'Petal length', 'Petal width', 'Species'),\n",
    "    (5.8, 2.7, 5.1, 1.9, 'virginica'),\n",
    "    (5.1, 3.5, 1.4, 0.2, 'setosa'),\n",
    "    (5.7, 2.8, 4.1, 1.3, 'versicolor'),\n",
    "    (6.3, 2.9, 5.6, 1.8, 'virginica'),\n",
    "    (6.4, 3.2, 4.5, 1.5, 'versicolor'),\n",
    "    (4.7, 3.2, 1.3, 0.2, 'setosa'),\n",
    "    (7.0, 3.2, 4.7, 1.4, 'versicolor'),\n",
    "    (7.6, 3.0, 6.6, 2.1, 'virginica'),\n",
    "    (4.9, 3.0, 1.4, 0.2, 'setosa'),\n",
    "    (4.9, 2.5, 4.5, 1.7, 'virginica'),\n",
    "    (7.1, 3.0, 5.9, 2.1, 'virginica'),\n",
    "    (4.6, 3.4, 1.4, 0.3, 'setosa'),\n",
    "    (5.4, 3.9, 1.7, 0.4, 'setosa'),\n",
    "    (5.7, 2.8, 4.5, 1.3, 'versicolor'),\n",
    "    (5.0, 3.6, 1.4, 0.3, 'setosa'),\n",
    "    (5.5, 2.3, 4.0, 1.3, 'versicolor'),\n",
    "    (6.5, 3.0, 5.8, 2.2, 'virginica'),\n",
    "    (6.5, 2.8, 4.6, 1.5, 'versicolor'),\n",
    "    (6.3, 3.3, 6.0, 2.5, 'virginica'),\n",
    "    (6.9, 3.1, 4.9, 1.5, 'versicolor'),\n",
    "    (4.6, 3.1, 1.5, 0.2, 'setosa'),\n",
    "]"
   ]
  },
  {
   "cell_type": "code",
   "execution_count": 184,
   "metadata": {},
   "outputs": [
    {
     "name": "stdout",
     "output_type": "stream",
     "text": [
      "('Sepal length', 'Sepal width', 'Petal length', 'Petal width', 'Species')\n",
      "[(5.8, 2.7, 5.1, 1.9, 'virginica'), (5.1, 3.5, 1.4, 0.2, 'setosa'), (5.7, 2.8, 4.1, 1.3, 'versicolor'), (6.3, 2.9, 5.6, 1.8, 'virginica'), (6.4, 3.2, 4.5, 1.5, 'versicolor'), (4.7, 3.2, 1.3, 0.2, 'setosa'), (7.0, 3.2, 4.7, 1.4, 'versicolor'), (7.6, 3.0, 6.6, 2.1, 'virginica'), (4.9, 3.0, 1.4, 0.2, 'setosa'), (4.9, 2.5, 4.5, 1.7, 'virginica'), (7.1, 3.0, 5.9, 2.1, 'virginica'), (4.6, 3.4, 1.4, 0.3, 'setosa'), (5.4, 3.9, 1.7, 0.4, 'setosa'), (5.7, 2.8, 4.5, 1.3, 'versicolor'), (5.0, 3.6, 1.4, 0.3, 'setosa'), (5.5, 2.3, 4.0, 1.3, 'versicolor'), (6.5, 3.0, 5.8, 2.2, 'virginica'), (6.5, 2.8, 4.6, 1.5, 'versicolor'), (6.3, 3.3, 6.0, 2.5, 'virginica'), (6.9, 3.1, 4.9, 1.5, 'versicolor'), (4.6, 3.1, 1.5, 0.2, 'setosa')]\n"
     ]
    }
   ],
   "source": [
    "header=DATA[0]\n",
    "data=DATA[1:]\n",
    "RATIO=.6\n",
    "punkt_podzialu=int(len(data)*RATIO)\n",
    "print(header)\n",
    "print(data)"
   ]
  },
  {
   "cell_type": "code",
   "execution_count": 186,
   "metadata": {},
   "outputs": [],
   "source": [
    "features = [tuple(measurements) for *measurements,_ in data]\n",
    "features_train = features[:punkt_podzialu]\n",
    "features_test = features[punkt_podzialu:]\n",
    "\n",
    "labels = [species for *_,species in data]\n",
    "labels_train = labels[:punkt_podzialu]\n",
    "labels_test = labels[punkt_podzialu:]"
   ]
  },
  {
   "cell_type": "code",
   "execution_count": 188,
   "metadata": {},
   "outputs": [
    {
     "data": {
      "text/plain": [
       "([(5.8, 2.7, 5.1, 1.9),\n",
       "  (5.1, 3.5, 1.4, 0.2),\n",
       "  (5.7, 2.8, 4.1, 1.3),\n",
       "  (6.3, 2.9, 5.6, 1.8),\n",
       "  (6.4, 3.2, 4.5, 1.5),\n",
       "  (4.7, 3.2, 1.3, 0.2),\n",
       "  (7.0, 3.2, 4.7, 1.4),\n",
       "  (7.6, 3.0, 6.6, 2.1),\n",
       "  (4.9, 3.0, 1.4, 0.2),\n",
       "  (4.9, 2.5, 4.5, 1.7),\n",
       "  (7.1, 3.0, 5.9, 2.1),\n",
       "  (4.6, 3.4, 1.4, 0.3)],\n",
       " [(5.4, 3.9, 1.7, 0.4),\n",
       "  (5.7, 2.8, 4.5, 1.3),\n",
       "  (5.0, 3.6, 1.4, 0.3),\n",
       "  (5.5, 2.3, 4.0, 1.3),\n",
       "  (6.5, 3.0, 5.8, 2.2),\n",
       "  (6.5, 2.8, 4.6, 1.5),\n",
       "  (6.3, 3.3, 6.0, 2.5),\n",
       "  (6.9, 3.1, 4.9, 1.5),\n",
       "  (4.6, 3.1, 1.5, 0.2)],\n",
       " ['virginica',\n",
       "  'setosa',\n",
       "  'versicolor',\n",
       "  'virginica',\n",
       "  'versicolor',\n",
       "  'setosa',\n",
       "  'versicolor',\n",
       "  'virginica',\n",
       "  'setosa',\n",
       "  'virginica',\n",
       "  'virginica',\n",
       "  'setosa'],\n",
       " ['setosa',\n",
       "  'versicolor',\n",
       "  'setosa',\n",
       "  'versicolor',\n",
       "  'virginica',\n",
       "  'versicolor',\n",
       "  'virginica',\n",
       "  'versicolor',\n",
       "  'setosa'])"
      ]
     },
     "execution_count": 188,
     "metadata": {},
     "output_type": "execute_result"
    }
   ],
   "source": [
    "result = features_train, features_test, labels_train, labels_test\n",
    "result"
   ]
  },
  {
   "cell_type": "code",
   "execution_count": 190,
   "metadata": {},
   "outputs": [
    {
     "name": "stdout",
     "output_type": "stream",
     "text": [
      "Hello Abelard\n"
     ]
    }
   ],
   "source": [
    "def przywitaj (imie):\n",
    "    print(f'Hello {imie}')\n",
    "    \n",
    "przywitaj('Abelard')"
   ]
  },
  {
   "cell_type": "code",
   "execution_count": null,
   "metadata": {},
   "outputs": [],
   "source": []
  }
 ],
 "metadata": {
  "kernelspec": {
   "display_name": "Python 3",
   "language": "python",
   "name": "python3"
  },
  "language_info": {
   "codemirror_mode": {
    "name": "ipython",
    "version": 3
   },
   "file_extension": ".py",
   "mimetype": "text/x-python",
   "name": "python",
   "nbconvert_exporter": "python",
   "pygments_lexer": "ipython3",
   "version": "3.7.4"
  }
 },
 "nbformat": 4,
 "nbformat_minor": 2
}
