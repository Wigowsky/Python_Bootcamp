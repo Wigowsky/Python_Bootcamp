{
 "cells": [
  {
   "cell_type": "markdown",
   "metadata": {},
   "source": [
    "Zadanie 1"
   ]
  },
  {
   "cell_type": "code",
   "execution_count": 19,
   "metadata": {},
   "outputs": [],
   "source": [
    "def funkcja (*args):\n",
    "        for i, arg in enumerate(args):\n",
    "            print(f\"{i+1}. {arg}\")"
   ]
  },
  {
   "cell_type": "code",
   "execution_count": 15,
   "metadata": {},
   "outputs": [
    {
     "name": "stdout",
     "output_type": "stream",
     "text": [
      "0 33\n",
      "1 44\n",
      "2 55\n"
     ]
    }
   ],
   "source": [
    "lista = [33,44,55]\n",
    "for i, el in enumerate(lista):\n",
    "    print(i, el)"
   ]
  },
  {
   "cell_type": "code",
   "execution_count": 20,
   "metadata": {},
   "outputs": [
    {
     "name": "stdout",
     "output_type": "stream",
     "text": [
      "1. napis\n",
      "2. 5\n",
      "3. [3, 4]\n"
     ]
    }
   ],
   "source": [
    "funkcja(\"napis\",5,[3,4])"
   ]
  },
  {
   "cell_type": "markdown",
   "metadata": {},
   "source": [
    "Zadanie 2 "
   ]
  },
  {
   "cell_type": "code",
   "execution_count": 21,
   "metadata": {},
   "outputs": [],
   "source": [
    "pracownicy=[\"Mateusz\",\"Paweł\",\"Iwo\"]"
   ]
  },
  {
   "cell_type": "code",
   "execution_count": 40,
   "metadata": {},
   "outputs": [],
   "source": [
    "def lacz_napisy(nazwa_listy,separator,*args):\n",
    "    print(f\"{nazwa_listy}:\", end=\" \")\n",
    "    for i, arg in enumerate(args):\n",
    "        if i < len(args)-1:\n",
    "            print(arg, end=f\"{separator}\")\n",
    "        else :\n",
    "            print(arg)"
   ]
  },
  {
   "cell_type": "code",
   "execution_count": 41,
   "metadata": {},
   "outputs": [
    {
     "name": "stdout",
     "output_type": "stream",
     "text": [
      "Pracownicy: ['Mateusz', 'Paweł', 'Iwo']\n"
     ]
    }
   ],
   "source": [
    "lacz_napisy(\"Pracownicy\",\",\",pracownicy)"
   ]
  },
  {
   "cell_type": "code",
   "execution_count": 45,
   "metadata": {},
   "outputs": [
    {
     "name": "stdout",
     "output_type": "stream",
     "text": [
      "Mateusz\n"
     ]
    }
   ],
   "source": [
    "print(pracownicy[0])"
   ]
  },
  {
   "cell_type": "code",
   "execution_count": 71,
   "metadata": {},
   "outputs": [],
   "source": [
    "def lacz_napisy1(nazwa_listy,separator,lista):\n",
    "    print(f\"{nazwa_listy}:\", end=\" \")\n",
    "    i=0\n",
    "    while i < len(lista):\n",
    "        if i < len(lista)-1:\n",
    "            print(lista[i], end=f\"{separator}\")\n",
    "            i+=1\n",
    "        else :\n",
    "            print(lista[i])\n",
    "            break\n"
   ]
  },
  {
   "cell_type": "code",
   "execution_count": 72,
   "metadata": {},
   "outputs": [
    {
     "name": "stdout",
     "output_type": "stream",
     "text": [
      "Pracownicy: Mateusz,Paweł,Iwo\n"
     ]
    }
   ],
   "source": [
    "lacz_napisy1(\"Pracownicy\",\",\",pracownicy)"
   ]
  },
  {
   "cell_type": "markdown",
   "metadata": {},
   "source": [
    "Zadanie 2"
   ]
  },
  {
   "cell_type": "code",
   "execution_count": 64,
   "metadata": {},
   "outputs": [],
   "source": [
    "# zwyczajowo przyjelo sie pisac *args, ale moze byc dowolna inna nazwa\n",
    "def lacz_napisy2(nazwa_listy, separator, *elementy, **kwargs):\n",
    "    print(f\"{nazwa_listy}: \", end=\"\")\n",
    "    # dla kazdego elementu z pozycyjnych:\n",
    "    #     wypisz go\n",
    "    #     sprawdz, czy to ostatni lub sa argumenty nazwane\n",
    "    #     jak nie, to napisz separator\n",
    "    for i, arg in enumerate(elementy):\n",
    "        print(arg, end=\"\")\n",
    "        if i < len(elementy) - 1 or len(kwargs) > 0:\n",
    "            print(separator, end=\"\")\n",
    "    # dla kazdego elementu z nazwanych:\n",
    "    #     wypisz go\n",
    "    #     sprawdz czy to ostatni\n",
    "    #     jak nie, to napisz separator\n",
    "    for index, (key, value) in enumerate(kwargs.items()):\n",
    "        print(f\"({key}, {value})\" ,end=\"\")\n",
    "        if index < len(kwargs) - 1:\n",
    "            print(separator, end=\"\")\n"
   ]
  },
  {
   "cell_type": "code",
   "execution_count": 65,
   "metadata": {},
   "outputs": [
    {
     "name": "stdout",
     "output_type": "stream",
     "text": [
      "Pracownicy: Imie1,Imie2,(klucz, wartosc),(inna, para)"
     ]
    }
   ],
   "source": [
    "lacz_napisy2(\"Pracownicy\",\",\",\"Imie1\",\"Imie2\",klucz=\"wartosc\",inna=\"para\")"
   ]
  },
  {
   "cell_type": "markdown",
   "metadata": {},
   "source": [
    "Zadanie 3"
   ]
  },
  {
   "cell_type": "code",
   "execution_count": 1,
   "metadata": {},
   "outputs": [],
   "source": [
    "def operacje (a,znak,b):\n",
    "    a=float(a)\n",
    "    b=float(b)\n",
    "    if znak ==\"+\" :\n",
    "        print(\"Twój wynik to: \", a+b)\n",
    "    elif znak ==\"-\":\n",
    "        print(\"Twój wynik to: \", a-b)\n",
    "    elif znak==\"*\":\n",
    "        print(\"Twój wynik to: \", a*b)\n",
    "    elif znak==\"/\":\n",
    "        print(\"Twój wynik to: \", a/b)\n",
    "    elif znak==\"//\":\n",
    "        print(\"Twój wynik to: \", a//b)\n",
    "    elif znak==\"%\":\n",
    "        print(\"Twój wynik to: \", a%b)\n",
    "    else:\n",
    "        print(\"Błąd : Nie podałeś prawidłowego znaku\")"
   ]
  },
  {
   "cell_type": "code",
   "execution_count": 14,
   "metadata": {},
   "outputs": [],
   "source": [
    "def kalkulator():\n",
    "    czy_dalej=\"t\"\n",
    "    while czy_dalej == \"t\":\n",
    "        try:\n",
    "            a=input()\n",
    "            znak=input()\n",
    "            b=input()\n",
    "            operacje(a,znak,b)\n",
    "            czy_dalej=input(\"Chcesz wykonać kolejne działanie? Wpisz literę t lub n.\")\n",
    "        except ValueError as err:\n",
    "            print(\"Błąd : Nie podałeś liczby\")\n",
    "            czy_dalej=input(\"Chcesz wykonać kolejne działanie? Wpisz literę t lub n.\")\n",
    "        except ZeroDivisionError as zeroerr :\n",
    "            print(\"Błąd : Nie wolno dzielić przez 0\")\n",
    "            czy_dalej=input(\"Chcesz wykonać kolejne działanie? Wpisz literę t lub n.\")\n",
    "        continue\n",
    "    if czy_dalej == 'n':\n",
    "        print(\"Koniec Działań\")\n",
    "    else:\n",
    "        print(\"Nie właściwa komenda, zamykam\")"
   ]
  },
  {
   "cell_type": "code",
   "execution_count": 20,
   "metadata": {},
   "outputs": [
    {
     "name": "stdout",
     "output_type": "stream",
     "text": [
      "5\n",
      "5\n",
      "5\n",
      "Błąd : Nie podałeś prawidłowego znaku\n",
      "Chcesz wykonać kolejne działanie? Wpisz literę t lub n.n\n",
      "Koniec Działań\n"
     ]
    }
   ],
   "source": [
    "kalkulator()"
   ]
  },
  {
   "cell_type": "markdown",
   "metadata": {},
   "source": [
    "Zadanie 4"
   ]
  },
  {
   "cell_type": "code",
   "execution_count": 28,
   "metadata": {},
   "outputs": [
    {
     "data": {
      "text/plain": [
       "['93101104456']"
      ]
     },
     "execution_count": 28,
     "metadata": {},
     "output_type": "execute_result"
    }
   ],
   "source": [
    "import re\n",
    "re.findall(\"^\\d{11}$\",\"93101104456\")"
   ]
  },
  {
   "cell_type": "markdown",
   "metadata": {},
   "source": [
    "[a-z][._a-z1-9]*@[a-z]+(?:\\.[a-z]+)*\\.[a-z]{2,3} - regex dla adresów mail"
   ]
  },
  {
   "cell_type": "markdown",
   "metadata": {},
   "source": [
    "(\\+*[0-9]{9,11})|(\\+*[0-9]{2} ?[0-9]{2,3}-?[0-9]{2,3}-?[0-9]{2,3})|(\\+*[0-9]{2} ?[0-9]{2} ?[0-9]{3} ?[0-9]{2} ?[0-9]{2})|([0-9]{2,3} ?[0-9]{2,3} ?[0-9]{2,3} ?[0-9]{0,3})|([0-9]{3}-?[0-9]{3}-?[0-9]{3}) - dla telefonów"
   ]
  },
  {
   "cell_type": "markdown",
   "metadata": {},
   "source": [
    "# 1. Funkcja kwadratowa"
   ]
  },
  {
   "cell_type": "markdown",
   "metadata": {},
   "source": [
    "* chcemy przechowywać funkcję $ax^2+bx+c$\n",
    "* oblicz(x) - oblicza wartość funkcji w punkcie x\n",
    "* pochodna() - zwraca nową funkcję kwadratową z odpowiednimi współczynnikami\n",
    "* rozwiaz() - zwraca miejsca zerowe"
   ]
  },
  {
   "cell_type": "code",
   "execution_count": null,
   "metadata": {},
   "outputs": [],
   "source": [
    "class Funkcja_Kwadratowa : \n",
    "    def __init__(a, b, c):\n",
    "        # na dane (imie, nazwisko, wiek) mówimy w Pythonie atrybuty,\n",
    "        # w innych językach: pola\n",
    "        self.a = a\n",
    "        self.b = b\n",
    "        self.c = c\n",
    "        \n",
    "    def oblicz(self):\n",
    "        delta=(b*b-4*a*c)\n",
    "        if delta>0:\n",
    "            pdelta = pow(delta,1/2.0)\n",
    "            print(\"Pierwiastek z delty wynosi: %d\" % (pdelta))\n",
    "            x1 = (-b-pdelta)/2*a\n",
    "            x2 = (-b+pdelta)/2*a\n",
    "            print(\"Delta dodatnia, posiada dwa miejsca zerowe x1 i x2, ktorych wartosci wynosza: %d  i  %d\" % (x1,x2))\n",
    "        elif delta==0:\n",
    "            x3=-b/2*a\n",
    "            print(\"Delta wynosi 0, posiada więc ona jedno miejsce zerowe, ktorej wartosc to %d\" % (x3))\n",
    "        else delta<0:\n",
    "            pdelta = pow(delta,1/2.0)\n",
    "            print(\"Pierwiastek z delty wynosi: %d\" % (pdelta))\n",
    "            re=(-b-pdelta)/2*a\n",
    "            im=(-b+pdelta)/2*a\n",
    "            print(\"Czesc rzeczywista: (-%d-%d i)/2*%d\" % (b,pdelta,a))\n",
    "            print(\"Czesc urojona: (-%d+%d i)/2*%d\" % (b,pdelta,a))\n",
    "        \n",
    "    def pochodna(self):"
   ]
  }
 ],
 "metadata": {
  "kernelspec": {
   "display_name": "Python 3",
   "language": "python",
   "name": "python3"
  },
  "language_info": {
   "codemirror_mode": {
    "name": "ipython",
    "version": 3
   },
   "file_extension": ".py",
   "mimetype": "text/x-python",
   "name": "python",
   "nbconvert_exporter": "python",
   "pygments_lexer": "ipython3",
   "version": "3.7.4"
  }
 },
 "nbformat": 4,
 "nbformat_minor": 2
}
