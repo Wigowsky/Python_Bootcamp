{
 "cells": [
  {
   "cell_type": "markdown",
   "metadata": {},
   "source": [
    "Zadanie 1"
   ]
  },
  {
   "cell_type": "code",
   "execution_count": 19,
   "metadata": {},
   "outputs": [],
   "source": [
    "def funkcja (*args):\n",
    "        for i, arg in enumerate(args):\n",
    "            print(f\"{i+1}. {arg}\")"
   ]
  },
  {
   "cell_type": "code",
   "execution_count": 15,
   "metadata": {},
   "outputs": [
    {
     "name": "stdout",
     "output_type": "stream",
     "text": [
      "0 33\n",
      "1 44\n",
      "2 55\n"
     ]
    }
   ],
   "source": [
    "lista = [33,44,55]\n",
    "for i, el in enumerate(lista):\n",
    "    print(i, el)"
   ]
  },
  {
   "cell_type": "code",
   "execution_count": 20,
   "metadata": {},
   "outputs": [
    {
     "name": "stdout",
     "output_type": "stream",
     "text": [
      "1. napis\n",
      "2. 5\n",
      "3. [3, 4]\n"
     ]
    }
   ],
   "source": [
    "funkcja(\"napis\",5,[3,4])"
   ]
  },
  {
   "cell_type": "markdown",
   "metadata": {},
   "source": [
    "Zadanie 2 "
   ]
  },
  {
   "cell_type": "code",
   "execution_count": 21,
   "metadata": {},
   "outputs": [],
   "source": [
    "pracownicy=[\"Mateusz\",\"Paweł\",\"Iwo\"]"
   ]
  },
  {
   "cell_type": "code",
   "execution_count": 40,
   "metadata": {},
   "outputs": [],
   "source": [
    "def lacz_napisy(nazwa_listy,separator,*args):\n",
    "    print(f\"{nazwa_listy}:\", end=\" \")\n",
    "    for i, arg in enumerate(args):\n",
    "        if i < len(args)-1:\n",
    "            print(arg, end=f\"{separator}\")\n",
    "        else :\n",
    "            print(arg)"
   ]
  },
  {
   "cell_type": "code",
   "execution_count": 41,
   "metadata": {},
   "outputs": [
    {
     "name": "stdout",
     "output_type": "stream",
     "text": [
      "Pracownicy: ['Mateusz', 'Paweł', 'Iwo']\n"
     ]
    }
   ],
   "source": [
    "lacz_napisy(\"Pracownicy\",\",\",pracownicy)"
   ]
  },
  {
   "cell_type": "code",
   "execution_count": 45,
   "metadata": {},
   "outputs": [
    {
     "name": "stdout",
     "output_type": "stream",
     "text": [
      "Mateusz\n"
     ]
    }
   ],
   "source": [
    "print(pracownicy[0])"
   ]
  },
  {
   "cell_type": "code",
   "execution_count": 71,
   "metadata": {},
   "outputs": [],
   "source": [
    "def lacz_napisy1(nazwa_listy,separator,lista):\n",
    "    print(f\"{nazwa_listy}:\", end=\" \")\n",
    "    i=0\n",
    "    while i < len(lista):\n",
    "        if i < len(lista)-1:\n",
    "            print(lista[i], end=f\"{separator}\")\n",
    "            i+=1\n",
    "        else :\n",
    "            print(lista[i])\n",
    "            break\n"
   ]
  },
  {
   "cell_type": "code",
   "execution_count": 72,
   "metadata": {},
   "outputs": [
    {
     "name": "stdout",
     "output_type": "stream",
     "text": [
      "Pracownicy: Mateusz,Paweł,Iwo\n"
     ]
    }
   ],
   "source": [
    "lacz_napisy1(\"Pracownicy\",\",\",pracownicy)"
   ]
  },
  {
   "cell_type": "markdown",
   "metadata": {},
   "source": [
    "Zadanie 2"
   ]
  },
  {
   "cell_type": "code",
   "execution_count": 64,
   "metadata": {},
   "outputs": [],
   "source": [
    "# zwyczajowo przyjelo sie pisac *args, ale moze byc dowolna inna nazwa\n",
    "def lacz_napisy2(nazwa_listy, separator, *elementy, **kwargs):\n",
    "    print(f\"{nazwa_listy}: \", end=\"\")\n",
    "    # dla kazdego elementu z pozycyjnych:\n",
    "    #     wypisz go\n",
    "    #     sprawdz, czy to ostatni lub sa argumenty nazwane\n",
    "    #     jak nie, to napisz separator\n",
    "    for i, arg in enumerate(elementy):\n",
    "        print(arg, end=\"\")\n",
    "        if i < len(elementy) - 1 or len(kwargs) > 0:\n",
    "            print(separator, end=\"\")\n",
    "    # dla kazdego elementu z nazwanych:\n",
    "    #     wypisz go\n",
    "    #     sprawdz czy to ostatni\n",
    "    #     jak nie, to napisz separator\n",
    "    for index, (key, value) in enumerate(kwargs.items()):\n",
    "        print(f\"({key}, {value})\" ,end=\"\")\n",
    "        if index < len(kwargs) - 1:\n",
    "            print(separator, end=\"\")\n"
   ]
  },
  {
   "cell_type": "code",
   "execution_count": 65,
   "metadata": {},
   "outputs": [
    {
     "name": "stdout",
     "output_type": "stream",
     "text": [
      "Pracownicy: Imie1,Imie2,(klucz, wartosc),(inna, para)"
     ]
    }
   ],
   "source": [
    "lacz_napisy2(\"Pracownicy\",\",\",\"Imie1\",\"Imie2\",klucz=\"wartosc\",inna=\"para\")"
   ]
  },
  {
   "cell_type": "markdown",
   "metadata": {},
   "source": [
    "Zadanie 3"
   ]
  },
  {
   "cell_type": "code",
   "execution_count": 1,
   "metadata": {},
   "outputs": [],
   "source": [
    "def operacje (a,znak,b):\n",
    "    a=float(a)\n",
    "    b=float(b)\n",
    "    if znak ==\"+\" :\n",
    "        print(\"Twój wynik to: \", a+b)\n",
    "    elif znak ==\"-\":\n",
    "        print(\"Twój wynik to: \", a-b)\n",
    "    elif znak==\"*\":\n",
    "        print(\"Twój wynik to: \", a*b)\n",
    "    elif znak==\"/\":\n",
    "        print(\"Twój wynik to: \", a/b)\n",
    "    elif znak==\"//\":\n",
    "        print(\"Twój wynik to: \", a//b)\n",
    "    elif znak==\"%\":\n",
    "        print(\"Twój wynik to: \", a%b)\n",
    "    else:\n",
    "        print(\"Błąd : Nie podałeś prawidłowego znaku\")"
   ]
  },
  {
   "cell_type": "code",
   "execution_count": 14,
   "metadata": {},
   "outputs": [],
   "source": [
    "def kalkulator():\n",
    "    czy_dalej=\"t\"\n",
    "    while czy_dalej == \"t\":\n",
    "        try:\n",
    "            a=input()\n",
    "            znak=input()\n",
    "            b=input()\n",
    "            operacje(a,znak,b)\n",
    "            czy_dalej=input(\"Chcesz wykonać kolejne działanie? Wpisz literę t lub n.\")\n",
    "        except ValueError as err:\n",
    "            print(\"Błąd : Nie podałeś liczby\")\n",
    "            czy_dalej=input(\"Chcesz wykonać kolejne działanie? Wpisz literę t lub n.\")\n",
    "        except ZeroDivisionError as zeroerr :\n",
    "            print(\"Błąd : Nie wolno dzielić przez 0\")\n",
    "            czy_dalej=input(\"Chcesz wykonać kolejne działanie? Wpisz literę t lub n.\")\n",
    "        continue\n",
    "    if czy_dalej == 'n':\n",
    "        print(\"Koniec Działań\")\n",
    "    else:\n",
    "        print(\"Nie właściwa komenda, zamykam\")"
   ]
  },
  {
   "cell_type": "code",
   "execution_count": 20,
   "metadata": {},
   "outputs": [
    {
     "name": "stdout",
     "output_type": "stream",
     "text": [
      "5\n",
      "5\n",
      "5\n",
      "Błąd : Nie podałeś prawidłowego znaku\n",
      "Chcesz wykonać kolejne działanie? Wpisz literę t lub n.n\n",
      "Koniec Działań\n"
     ]
    }
   ],
   "source": [
    "kalkulator()"
   ]
  },
  {
   "cell_type": "markdown",
   "metadata": {},
   "source": [
    "Zadanie 4"
   ]
  },
  {
   "cell_type": "code",
   "execution_count": 28,
   "metadata": {},
   "outputs": [
    {
     "data": {
      "text/plain": [
       "['93101104456']"
      ]
     },
     "execution_count": 28,
     "metadata": {},
     "output_type": "execute_result"
    }
   ],
   "source": [
    "import re\n",
    "re.findall(\"^\\d{11}$\",\"93101104456\")"
   ]
  },
  {
   "cell_type": "markdown",
   "metadata": {},
   "source": [
    "[a-z][._a-z1-9]*@[a-z]+(?:\\.[a-z]+)*\\.[a-z]{2,3} - regex dla adresów mail"
   ]
  },
  {
   "cell_type": "markdown",
   "metadata": {},
   "source": [
    "(\\+*[0-9]{9,11})|(\\+*[0-9]{2} ?[0-9]{2,3}-?[0-9]{2,3}-?[0-9]{2,3})|(\\+*[0-9]{2} ?[0-9]{2} ?[0-9]{3} ?[0-9]{2} ?[0-9]{2})|([0-9]{2,3} ?[0-9]{2,3} ?[0-9]{2,3} ?[0-9]{0,3})|([0-9]{3}-?[0-9]{3}-?[0-9]{3}) - dla telefonów"
   ]
  },
  {
   "cell_type": "markdown",
   "metadata": {},
   "source": [
    "# 1. Funkcja kwadratowa"
   ]
  },
  {
   "cell_type": "markdown",
   "metadata": {},
   "source": [
    "* chcemy przechowywać funkcję $ax^2+bx+c$\n",
    "* oblicz(x) - oblicza wartość funkcji w punkcie x\n",
    "* pochodna() - zwraca nową funkcję kwadratową z odpowiednimi współczynnikami\n",
    "* rozwiaz() - zwraca miejsca zerowe"
   ]
  },
  {
   "cell_type": "code",
   "execution_count": 41,
   "metadata": {},
   "outputs": [],
   "source": [
    "class Funkcja_Kwadratowa : \n",
    "    def __init__(self,a, b, c):\n",
    "        # na dane (imie, nazwisko, wiek) mówimy w Pythonie atrybuty,\n",
    "        # w innych językach: pola\n",
    "        self.a = a\n",
    "        self.b = b\n",
    "        self.c = c\n",
    "        \n",
    "    def oblicz(self, x):\n",
    "        return self.a*x*x+self.b*x+self.c\n",
    "    \n",
    "    def __repr__(self):\n",
    "        return f\"Funkcja_Kwadratowa(a={self.a}, b={self.b}, c={self.c})\"\n",
    "    \n",
    "    def __str__ (self):\n",
    "        return f\"{self.a}x^2 + {self.b}x + {self.c}\"\n",
    " \n",
    "    def pochodna(self):\n",
    "        poch = Funkcja_Kwadratowa(0, 2*self.a, self.b)\n",
    "        return poch\n",
    "    \n",
    "    def rozwiaz(self):\n",
    "        if self.a==0:\n",
    "            if self.b==0:\n",
    "                if self.c==0:\n",
    "                    return(float(\"-inf\"), float(\"inf\"))\n",
    "            else:\n",
    "                return (-self.c/self.b, -self.c/self.b)\n",
    "        else:\n",
    "            delta=(self.b*self.b-4*self.a*self.c)\n",
    "            if delta>0:\n",
    "                pdelta = pow(delta,1/2.0)\n",
    "                print(f\"Pierwiastek z delty wynosi: {pdelta}\" )\n",
    "                x1 = (-self.b-pdelta)/2*self.a\n",
    "                x2 = (-self.b+pdelta)/2*self.a\n",
    "                print(f\"Delta dodatnia, posiada dwa miejsca zerowe x1 i x2, ktorych wartosci wynosza: {x1} i {x2}\")\n",
    "            elif delta==0:\n",
    "                x3=-self.b/2*self.a\n",
    "                print(f\"Delta wynosi 0, posiada więc ona jedno miejsce zerowe, ktorej wartosc to {x3}\")\n",
    "            elif delta < 0:\n",
    "                print(\"Delta ujemna brak rozwiąń\")"
   ]
  },
  {
   "cell_type": "code",
   "execution_count": 30,
   "metadata": {},
   "outputs": [
    {
     "data": {
      "text/plain": [
       "36"
      ]
     },
     "execution_count": 30,
     "metadata": {},
     "output_type": "execute_result"
    }
   ],
   "source": [
    "kw1=Funkcja_Kwadratowa(1,2,1)\n",
    "kw1.oblicz(5)"
   ]
  },
  {
   "cell_type": "code",
   "execution_count": 31,
   "metadata": {},
   "outputs": [
    {
     "data": {
      "text/plain": [
       "12"
      ]
     },
     "execution_count": 31,
     "metadata": {},
     "output_type": "execute_result"
    }
   ],
   "source": [
    "kw1prim=kw1.pochodna()\n",
    "kw1prim.oblicz(5)"
   ]
  },
  {
   "cell_type": "code",
   "execution_count": 43,
   "metadata": {},
   "outputs": [
    {
     "name": "stdout",
     "output_type": "stream",
     "text": [
      "Delta wynosi 0, posiada więc ona jedno miejsce zerowe, ktorej wartosc to -1.0\n"
     ]
    }
   ],
   "source": [
    "kw1=Funkcja_Kwadratowa(1,2,1)\n",
    "kw1.rozwiaz()"
   ]
  },
  {
   "cell_type": "code",
   "execution_count": 44,
   "metadata": {},
   "outputs": [
    {
     "data": {
      "text/plain": [
       "(-0.5, -0.5)"
      ]
     },
     "execution_count": 44,
     "metadata": {},
     "output_type": "execute_result"
    }
   ],
   "source": [
    "kw2=Funkcja_Kwadratowa(0,10,5)\n",
    "kw2.rozwiaz()"
   ]
  },
  {
   "cell_type": "markdown",
   "metadata": {},
   "source": [
    "# Liczba zespolona"
   ]
  },
  {
   "cell_type": "markdown",
   "metadata": {},
   "source": [
    "* przechowujemy dwa atrybuty: re, im\n",
    "* modul (jako property do odczytu)  - odległość od punktu (0,0)\n",
    "* str, repr\n",
    "* statycznie: dodaj(), odejmij(), pomnoz() - przyjmuja jako parametry dwie liczby zespolone, zwracaja jedna nowa - wynik\n",
    "\n",
    "* a, c - część rzeczywista (re)\n",
    "* b, d - część urojona (im)\n",
    "* Dodawanie: $(a+bi) + (c+di) = (a+c) + (b+d)i$\n",
    "* Odejmowanie: $(a+bi) - (c+di) = (a-c) + (b-d)i$\n",
    "* Mnożenie: $(a+bi) \\cdot (c+di) = (ac-bd) + (bc+ad)i$\n",
    "* Modul: modul($a+bi$) = $\\sqrt{a^2+b^2}$\n"
   ]
  },
  {
   "cell_type": "code",
   "execution_count": 108,
   "metadata": {},
   "outputs": [],
   "source": [
    "class KalkulatorZespolony :\n",
    "    \n",
    "    i = pow(-1,1/2)\n",
    "    \n",
    "    def __init__(self,re,mi):\n",
    "        self.re=re\n",
    "        self.mi=mi\n",
    "    \n",
    "    def __repr__(self):\n",
    "        return f\"Zespolona = (re={self.re},mi={self.mi})\"\n",
    "    \n",
    "    \n",
    "    def __str__(self):\n",
    "        return f\"{self.re}{self.im:+}i\"\n",
    "    \n",
    "    @property\n",
    "    def modul(self):\n",
    "        return math.sqrt(self.re**2 + self.im**2)\n",
    "    \n",
    "    @staticmethod   \n",
    "    def dodaj(z1,z2):\n",
    "        \n",
    "        return (z1.re+z2.re)+(z1.mi+z2.mi)*KalkulatorZespolony.i\n",
    "    \n",
    "    @staticmethod\n",
    "    def odejmij(z1,z2):\n",
    "        \n",
    "        return (z1.re-z2.re)+(z1.mi-z2.mi)*KalkulatorZespolony.i\n",
    "    \n",
    "    @staticmethod\n",
    "    def pomnóż(z1,z2):\n",
    "        \n",
    "        return (z1.re*z2.re-z1.mi*z2.mi)+(z1.mi*z2.re-z1.re*z2.mi)*KalkulatorZespolony.i"
   ]
  },
  {
   "cell_type": "code",
   "execution_count": 94,
   "metadata": {},
   "outputs": [
    {
     "data": {
      "text/plain": [
       "Zespolona  = (re=1,mi=2)"
      ]
     },
     "execution_count": 94,
     "metadata": {},
     "output_type": "execute_result"
    }
   ],
   "source": [
    "k1=KalkulatorZespolony(1,2)\n",
    "k1"
   ]
  },
  {
   "cell_type": "code",
   "execution_count": 100,
   "metadata": {},
   "outputs": [],
   "source": [
    "z1=KalkulatorZespolony(3,4)"
   ]
  },
  {
   "cell_type": "code",
   "execution_count": 103,
   "metadata": {},
   "outputs": [
    {
     "data": {
      "text/plain": [
       "(4+6j)"
      ]
     },
     "execution_count": 103,
     "metadata": {},
     "output_type": "execute_result"
    }
   ],
   "source": [
    "KalkulatorZespolony.dodaj(k1,z1)"
   ]
  },
  {
   "cell_type": "code",
   "execution_count": 104,
   "metadata": {},
   "outputs": [
    {
     "data": {
      "text/plain": [
       "(6.123233995736766e-17+1j)"
      ]
     },
     "execution_count": 104,
     "metadata": {},
     "output_type": "execute_result"
    }
   ],
   "source": [
    "i = pow(-1,1/2)\n",
    "i"
   ]
  },
  {
   "cell_type": "code",
   "execution_count": 111,
   "metadata": {},
   "outputs": [
    {
     "data": {
      "text/plain": [
       "1"
      ]
     },
     "execution_count": 111,
     "metadata": {},
     "output_type": "execute_result"
    }
   ],
   "source": [
    "import math\n",
    "math.gcd(3,4)"
   ]
  },
  {
   "cell_type": "markdown",
   "metadata": {},
   "source": [
    "# Ułamek"
   ]
  },
  {
   "cell_type": "markdown",
   "metadata": {},
   "source": [
    "* przechowujemy licznik, mianownik\n",
    "* minus zawsze przechowujemy w liczniku, nigdy w mianowniku, jeśli są dwa minusy, to powinno nie być żadnego\n",
    "* cały czas przechowujemy wynik skrócony\n",
    "* wypisywanie\n",
    "* `__add__`, `__sub__`, `__mul__`"
   ]
  },
  {
   "cell_type": "code",
   "execution_count": 107,
   "metadata": {
    "scrolled": true
   },
   "outputs": [
    {
     "ename": "SyntaxError",
     "evalue": "unexpected EOF while parsing (<ipython-input-107-76bce41d4c8c>, line 1)",
     "output_type": "error",
     "traceback": [
      "\u001b[1;36m  File \u001b[1;32m\"<ipython-input-107-76bce41d4c8c>\"\u001b[1;36m, line \u001b[1;32m1\u001b[0m\n\u001b[1;33m    class Ulamek:\u001b[0m\n\u001b[1;37m                 ^\u001b[0m\n\u001b[1;31mSyntaxError\u001b[0m\u001b[1;31m:\u001b[0m unexpected EOF while parsing\n"
     ]
    }
   ],
   "source": [
    "class Ulamek:\n",
    "    def __init__(self,licznik,mianownik):\n",
    "        self.licznik=licznik\n",
    "        self.mianownik=mianownik\n",
    "        \n",
    "    @staticmethod\n",
    "    def dodawanie(u1, u2):\n",
    "        wynik = Zespolona(z1.re+z2.re, z1.im+z2.im)\n",
    "        return wynik\n",
    "    \n",
    "    @staticmethod\n",
    "    def odejmowanie(u1, u2):\n",
    "        return Zespolona(z1.re-z2.re, z1.im-z2.im)\n",
    "    \n",
    "    @staticmethod\n",
    "    def mnozenie(u1, u2):\n",
    "        wynik = Ulamek(u1.licznik*u2.licznik, u1.mianownik*u2.mianownik)\n",
    "        return wynik\n",
    "    \n",
    "    \n",
    "    def __add__(self, other):\n",
    "        return Zespolona.dodawanie(self, other)\n",
    "    \n",
    "    def __sub__(self, other):\n",
    "        return Zespolona.odejmowanie(self, other)\n",
    "    \n",
    "    def __mul__(self, other):\n",
    "        return Ulamek.mnozenie(self, other)"
   ]
  },
  {
   "cell_type": "markdown",
   "metadata": {},
   "source": [
    "# Zadanie 1: dostajemy ścieżkę do pliku, zwracamy (printujemy) liczbę linii w pliku"
   ]
  },
  {
   "cell_type": "code",
   "execution_count": 124,
   "metadata": {},
   "outputs": [
    {
     "name": "stdout",
     "output_type": "stream",
     "text": [
      "asdad\n",
      "asda\n",
      "\n",
      "gafa\n",
      "aw\n",
      "\n",
      "dasdasd\n",
      "\n"
     ]
    }
   ],
   "source": [
    "import os.pa\n",
    "\n",
    "os.listdir(\".\")\n",
    "data_folder = os.path.join(\"Grafiki\")\n",
    "\n",
    "\n",
    "file_to_open = os.path.join(data_folder, \"test.txt\")\n",
    "\n",
    "f = open(file_to_open)\n",
    "\n",
    "\n",
    "print(f.read())"
   ]
  },
  {
   "cell_type": "code",
   "execution_count": 142,
   "metadata": {},
   "outputs": [
    {
     "name": "stdout",
     "output_type": "stream",
     "text": [
      "5 + 5\n"
     ]
    }
   ],
   "source": [
    "with open(file_to_open) as f:\n",
    "    content = f.readlines()\n",
    "    print(content[0].strip(),content[1].strip(),content[2].strip())"
   ]
  },
  {
   "cell_type": "code",
   "execution_count": 132,
   "metadata": {},
   "outputs": [],
   "source": [
    "with open(\"wynik.txt\", \"w\") as f:\n",
    "    f.write(Wynik)\n",
    "    f.write(str(5+5))"
   ]
  },
  {
   "cell_type": "code",
   "execution_count": 158,
   "metadata": {},
   "outputs": [],
   "source": [
    "def calc_alfa(file_to_open,file_to_write):\n",
    "    with open(file_to_open) as f:\n",
    "        content = f.readlines()\n",
    "        print(content[0].strip(),content[1].strip(),content[2].strip())\n",
    "    a=int(content[0].strip())\n",
    "    znak=content[1].strip()\n",
    "    b=int(content[2].strip())\n",
    "    if znak ==\"+\" :\n",
    "        Wynik=a+b\n",
    "        with open(file_to_write, \"w\") as f:\n",
    "            f.write(str(Wynik))\n",
    "    elif znak ==\"-\":\n",
    "        Wynik=a-b\n",
    "        with open(file_to_write, \"w\") as f:\n",
    "            f.write(str(Wynik))\n",
    "    elif znak==\"*\":\n",
    "        Wynik=a*b\n",
    "        with open(file_to_write, \"w\") as f:\n",
    "            ff.write(str(Wynik))\n",
    "    elif znak==\"/\":\n",
    "        Wynik=a/b\n",
    "        with open(file_to_write, \"w\") as f:\n",
    "            f.write(str(Wynik))\n",
    "    elif znak==\"//\":\n",
    "        Wynik=a//b\n",
    "        with open(file_to_write, \"w\") as f:\n",
    "            f.write(str(Wynik))\n",
    "    elif znak==\"%\":\n",
    "        Wynik=a%b\n",
    "        with open(file_to_write, \"w\") as f:\n",
    "            f.write(str(Wynik))"
   ]
  },
  {
   "cell_type": "code",
   "execution_count": 159,
   "metadata": {},
   "outputs": [
    {
     "name": "stdout",
     "output_type": "stream",
     "text": [
      "5 + 5\n"
     ]
    }
   ],
   "source": [
    "calc(os.path.join(data_folder, \"test.txt\"),\"wynik.txt\")"
   ]
  },
  {
   "cell_type": "code",
   "execution_count": 215,
   "metadata": {},
   "outputs": [],
   "source": [
    "#ulepszona wersja\n",
    "def calc(read,save):\n",
    "    import os\n",
    "    is_file_exist = os.path.exists(read)\n",
    "    if is_file_exist == True:\n",
    "        with open(read) as f:\n",
    "            wartosci = f.readlines()\n",
    "            if len(wartosci) > 3:\n",
    "                print(\"Za duzo wartosci podanych\")\n",
    "            else:\n",
    "                try:\n",
    "                    liczba1 = float(wartosci[0])\n",
    "                    operator = wartosci[1].strip()\n",
    "                    liczba2 = float(wartosci[2])\n",
    "                    if operator == \"+\":\n",
    "                        wynik = liczba1 + liczba2\n",
    "                    elif operator == \"-\":\n",
    "                        wynik = liczba1 - liczba2\n",
    "                    elif operator == \"*\":\n",
    "                        wynik = liczba1 * liczba2\n",
    "                    elif operator == \"/\":\n",
    "                        wynik = liczba1 / liczba2\n",
    "                    elif operator == \"//\":\n",
    "                        wynik = liczba1 // liczba2\n",
    "                    elif operator == \"%\":\n",
    "                        wynik = liczba1 % liczba2\n",
    "                    is_file_exist = os.path.exists(save)\n",
    "                    if is_file_exist == False:\n",
    "                        with open(save, \"w\") as r:\n",
    "                            r.write(str(wynik))\n",
    "                    else:\n",
    "                        print(f\"Cwaniaczku, plik {save} już istnieje\")\n",
    "                except ValueError as err:\n",
    "                    print(\"Błąd : Niepoprawna liczba w pliku\")\n",
    "                except ZeroDivisionError as zeroerr :\n",
    "                    print(\"Błąd : Nie wolno dzielić przez 0\")\n",
    "                except UnboundLocalError as opererr :\n",
    "                    print(\"Błąd : Niewłaściwy operator podany\")\n",
    "                except IndexError as emptyerr :\n",
    "                    print(\"Błąd : Za mało informacji podanych\")   \n",
    "    else: \n",
    "        print(f\"Plik {read} nie istnieje\")"
   ]
  },
  {
   "cell_type": "code",
   "execution_count": 218,
   "metadata": {},
   "outputs": [],
   "source": [
    "calc(os.path.join(data_folder, \"test.txt\"),\"wynik.txt\")"
   ]
  },
  {
   "cell_type": "code",
   "execution_count": null,
   "metadata": {},
   "outputs": [],
   "source": [
    "#wersja pomiedzy zapisana na wszelki wypadek\n",
    "def calc_beta(read,save):\n",
    "    import os\n",
    "    is_file_exist = os.path.exists(read)\n",
    "    if is_file_exist == True:\n",
    "        try:\n",
    "            with open(read) as f:\n",
    "                wartosci = f.readlines()\n",
    "                liczba1 = float(wartosci[0])\n",
    "                operator = wartosci[1].strip()\n",
    "                liczba2 = float(wartosci[2])\n",
    "            if operator == \"+\":\n",
    "                wynik = liczba1 + liczba2\n",
    "            elif operator == \"-\":\n",
    "                wynik = liczba1 - liczba2\n",
    "            elif operator == \"*\":\n",
    "                wynik = liczba1 * liczba2\n",
    "            elif operator == \"/\":\n",
    "                wynik = liczba1 / liczba2\n",
    "            elif operator == \"//\":\n",
    "                wynik = liczba1 // liczba2\n",
    "            elif operator == \"%\":\n",
    "                wynik = liczba1 % liczba2\n",
    "            is_file_exist = os.path.exists(save)\n",
    "            if is_file_exist == False:\n",
    "                with open(save, \"w\") as r:\n",
    "                    r.write(str(wynik))\n",
    "            else:\n",
    "                print(f\"Cwaniaczku, plik {save} już istnieje\")\n",
    "        except ValueError as err:\n",
    "            print(\"Błąd : Niepoprawna liczba w pliku\")\n",
    "        except ZeroDivisionError as zeroerr :\n",
    "            print(\"Błąd : Nie wolno dzielić przez 0\")\n",
    "        except UnboundLocalError as opererr :\n",
    "            print(\"Błąd : Niewłaściwy operator podany\")\n",
    "        except IndexError as emptyerr :\n",
    "            print(\"Błąd : Niewłaściwy operator podany\")   \n",
    "    else: \n",
    "        print(f\"Plik {read} nie istnieje\")"
   ]
  },
  {
   "cell_type": "code",
   "execution_count": 219,
   "metadata": {},
   "outputs": [
    {
     "name": "stdout",
     "output_type": "stream",
     "text": [
      "C:\\Users\\matts\\Desktop\n"
     ]
    }
   ],
   "source": [
    "!cd"
   ]
  },
  {
   "cell_type": "code",
   "execution_count": 224,
   "metadata": {},
   "outputs": [],
   "source": []
  },
  {
   "cell_type": "code",
   "execution_count": 225,
   "metadata": {},
   "outputs": [
    {
     "ename": "TypeError",
     "evalue": "a bytes-like object is required, not 'str'",
     "output_type": "error",
     "traceback": [
      "\u001b[1;31m---------------------------------------------------------------------------\u001b[0m",
      "\u001b[1;31mTypeError\u001b[0m                                 Traceback (most recent call last)",
      "\u001b[1;32m<ipython-input-225-54758853a133>\u001b[0m in \u001b[0;36m<module>\u001b[1;34m\u001b[0m\n\u001b[0;32m      1\u001b[0m \u001b[1;32mwith\u001b[0m \u001b[0mopen\u001b[0m\u001b[1;33m(\u001b[0m\u001b[1;34m'rozmiar.txt'\u001b[0m\u001b[1;33m,\u001b[0m \u001b[1;34m'wb'\u001b[0m\u001b[1;33m)\u001b[0m \u001b[1;32mas\u001b[0m \u001b[0mf\u001b[0m\u001b[1;33m:\u001b[0m\u001b[1;33m\u001b[0m\u001b[1;33m\u001b[0m\u001b[0m\n\u001b[0;32m      2\u001b[0m     \u001b[0mnum_chars\u001b[0m \u001b[1;33m=\u001b[0m \u001b[1;36m1024\u001b[0m \u001b[1;33m*\u001b[0m \u001b[1;36m1024\u001b[0m \u001b[1;33m*\u001b[0m \u001b[1;36m2\u001b[0m\u001b[1;33m\u001b[0m\u001b[1;33m\u001b[0m\u001b[0m\n\u001b[1;32m----> 3\u001b[1;33m     \u001b[0mf\u001b[0m\u001b[1;33m.\u001b[0m\u001b[0mwrite\u001b[0m\u001b[1;33m(\u001b[0m\u001b[1;34m'0'\u001b[0m \u001b[1;33m*\u001b[0m \u001b[0mnum_chars\u001b[0m\u001b[1;33m)\u001b[0m\u001b[1;33m\u001b[0m\u001b[1;33m\u001b[0m\u001b[0m\n\u001b[0m",
      "\u001b[1;31mTypeError\u001b[0m: a bytes-like object is required, not 'str'"
     ]
    }
   ],
   "source": []
  },
  {
   "cell_type": "code",
   "execution_count": 226,
   "metadata": {},
   "outputs": [],
   "source": [
    "def tworca_plikow(name,size):\n",
    "    iterator=size * 1000000\n",
    "    zawartosc=\"\"\n",
    "    for i in range (1,iterator):\n",
    "        zawartosc +=\"a\"\n",
    "    with open(name, \"w\") as f:\n",
    "        f.write(zawartosc)"
   ]
  },
  {
   "cell_type": "code",
   "execution_count": 227,
   "metadata": {},
   "outputs": [],
   "source": [
    "tworca_plikow(\"rozmiar.txt\",3)"
   ]
  },
  {
   "cell_type": "markdown",
   "metadata": {},
   "source": [
    "# Ciąg arytmetyczny:"
   ]
  },
  {
   "cell_type": "markdown",
   "metadata": {},
   "source": [
    "* dostajemy a0\n",
    "* dostajemy różnicę r\n",
    "* kolejne wyrazy w ciągu to: a0, a0+r, a0+r+r, itd.\n",
    "* później napisać kod, który wypisuje elementy tego ciągu aż nie będą większe od 100"
   ]
  },
  {
   "cell_type": "code",
   "execution_count": 229,
   "metadata": {},
   "outputs": [],
   "source": [
    "def ciag(a0,r):\n",
    "    while True:\n",
    "        yield a0\n",
    "        a0=a0+r"
   ]
  },
  {
   "cell_type": "code",
   "execution_count": 230,
   "metadata": {},
   "outputs": [],
   "source": [
    "def wypisz_ciag(a0,r):\n",
    "    cg=ciag(a0,r)\n",
    "    while True:\n",
    "        el=next(cg)\n",
    "        if el <= 100:\n",
    "            print(el)\n",
    "        else:\n",
    "            break     "
   ]
  },
  {
   "cell_type": "code",
   "execution_count": 231,
   "metadata": {},
   "outputs": [
    {
     "name": "stdout",
     "output_type": "stream",
     "text": [
      "5\n",
      "15\n",
      "25\n",
      "35\n",
      "45\n",
      "55\n",
      "65\n",
      "75\n",
      "85\n",
      "95\n"
     ]
    }
   ],
   "source": [
    "wypisz_ciag(5,10)"
   ]
  },
  {
   "cell_type": "code",
   "execution_count": 234,
   "metadata": {},
   "outputs": [
    {
     "name": "stdout",
     "output_type": "stream",
     "text": [
      "Give amount: 1\n",
      "[0]\n"
     ]
    }
   ],
   "source": [
    "a = int(input('Give amount: '))\n",
    "\n",
    "def fib(n):\n",
    "    a, b = 0, 1\n",
    "    for _ in range(n):\n",
    "        yield a\n",
    "        a, b = b, a + b\n",
    "\n",
    "print(list(fib(a)))"
   ]
  },
  {
   "cell_type": "markdown",
   "metadata": {},
   "source": [
    "Zadanie Fibonnaci"
   ]
  },
  {
   "cell_type": "code",
   "execution_count": 241,
   "metadata": {},
   "outputs": [
    {
     "name": "stdout",
     "output_type": "stream",
     "text": [
      "[1, 1, 2, 3, 5, 8, 13, 21, 34, 55, 89, 144, 233]\n"
     ]
    }
   ],
   "source": [
    "def fibo(self):\n",
    "    a, b = 1, 1\n",
    "    while a < 300:\n",
    "        yield a\n",
    "        a, b = b, a+b\n",
    "print(list(fibo(a)))"
   ]
  },
  {
   "cell_type": "code",
   "execution_count": null,
   "metadata": {},
   "outputs": [],
   "source": []
  }
 ],
 "metadata": {
  "kernelspec": {
   "display_name": "Python 3",
   "language": "python",
   "name": "python3"
  },
  "language_info": {
   "codemirror_mode": {
    "name": "ipython",
    "version": 3
   },
   "file_extension": ".py",
   "mimetype": "text/x-python",
   "name": "python",
   "nbconvert_exporter": "python",
   "pygments_lexer": "ipython3",
   "version": "3.7.4"
  }
 },
 "nbformat": 4,
 "nbformat_minor": 2
}
