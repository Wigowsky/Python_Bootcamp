{
 "cells": [
  {
   "cell_type": "code",
   "execution_count": 7,
   "metadata": {},
   "outputs": [
    {
     "name": "stdout",
     "output_type": "stream",
     "text": [
      "Hello World Mateusz Skrzydło\n"
     ]
    }
   ],
   "source": [
    "# Stwórz skrypt Python\n",
    "\n",
    "# Na górze pliku dodaj wieloliniowy komentarz z opisem programu (punkty do wykonania z tego zadania)\n",
    "\n",
    "# Zadeklaruj zmienną name i ustaw jej wartość na Twoje imię\n",
    "\n",
    "# Dodaj komentarz \"inline\" do zmiennej o treści: \"This is my name\"\n",
    "\n",
    "# Wypisz \"Hello World NAME\", gdzie NAME to Twoje imię (zmienna name)\n",
    "\n",
    "name='Mateusz Skrzydło' #This is my name\n",
    "print(f'Hello World {name}')"
   ]
  },
  {
   "cell_type": "code",
   "execution_count": 8,
   "metadata": {},
   "outputs": [
    {
     "name": "stdout",
     "output_type": "stream",
     "text": [
      "1 MB in bit = 8388608.0\n",
      "1 MB in Mb = 8.0 Mb\n",
      "MB - Mb = 7340032.0\n"
     ]
    }
   ],
   "source": [
    "# Oblicz ile bitów to jeden Megabajt\n",
    "\n",
    "# Ile razy Megabajt jest większy od Megabita?\n",
    "\n",
    "BIT = 1\n",
    "KILOBIT = 1024 * BIT\n",
    "MEGABIT = 1024 * KILOBIT\n",
    "\n",
    "BYTE = 8 * BIT\n",
    "KILOBYTE = 1024 * BYTE\n",
    "MEGABYTE = 1024 * KILOBYTE\n",
    "\n",
    "print(f'1 MB in bit = {1*MEGABYTE / BIT}')\n",
    "print(f'1 MB in Mb = {1*MEGABYTE / MEGABIT} Mb')\n",
    "print(f'MB - Mb = {(MEGABYTE - MEGABIT) / BIT}')"
   ]
  },
  {
   "cell_type": "code",
   "execution_count": 18,
   "metadata": {},
   "outputs": [
    {
     "name": "stdout",
     "output_type": "stream",
     "text": [
      " 5 minut to 300 sekund\n",
      " Godzina to 3600 sekund\n",
      " Dzien pracy to 28800 sekund\n",
      " Miesiac pracy to 633600 sekund\n",
      " Tydzien pracy to 2400 minut\n"
     ]
    }
   ],
   "source": [
    "# Oblicz ile sekund to pięć minut\n",
    "\n",
    "# Oblicz ile sekund to jedna godzina\n",
    "\n",
    "# Oblicz ile sekund to dzień pracy (8 godzin)\n",
    "\n",
    "# Oblicz ile sekund to miesiąc pracy (22 dni po 8 godzin)\n",
    "\n",
    "# Oblicz ile minut to tydzień pracy (40 godzin)\n",
    "\n",
    "SEKUNDA = 1\n",
    "MINUTA = 60 * SEKUNDA\n",
    "GODZINA = 60 * MINUTA\n",
    "\n",
    "DZIEN_PRACY = 8 * GODZINA\n",
    "TYDZIEN_PRACY = 5 * DZIEN_PRACY\n",
    "MIESIAC_PRACY = 22 * DZIEN_PRACY\n",
    "\n",
    "print(f' 5 minut to {SEKUNDA*5*MINUTA} sekund')\n",
    "print(f' Godzina to {SEKUNDA*1*GODZINA} sekund')\n",
    "print(f' Dzien pracy to {SEKUNDA*1*DZIEN_PRACY} sekund')\n",
    "print(f' Miesiac pracy to {SEKUNDA*1*MIESIAC_PRACY} sekund')\n",
    "print(f' Tydzien pracy to {SEKUNDA*1*TYDZIEN_PRACY//MINUTA} minut')"
   ]
  },
  {
   "cell_type": "code",
   "execution_count": 22,
   "metadata": {},
   "outputs": [
    {
     "name": "stdout",
     "output_type": "stream",
     "text": [
      " Rozmiar pliku w Megabitach 800.0\n",
      " Czas pobierania  8.0 sekund \n"
     ]
    }
   ],
   "source": [
    "# Mając łącze internetowe do 100 Mb/s\n",
    "\n",
    "# Ile zajmie ściągnięcie pliku 100 MB?\n",
    "\n",
    "rozmiar_plik_MB = 100\n",
    "rozmiar_plik_Mb = rozmiar_plik_MB * (1*MEGABYTE / MEGABIT)\n",
    "print(f' Rozmiar pliku w Megabitach {rozmiar_plik_Mb}')\n",
    "\n",
    "lacze=100 #100 Mb/s\n",
    "czasPobierania =rozmiar_plik_Mb / lacze\n",
    "\n",
    "print(f' Czas pobierania  {czasPobierania} sekund ')\n"
   ]
  },
  {
   "cell_type": "code",
   "execution_count": 37,
   "metadata": {},
   "outputs": [
    {
     "name": "stdout",
     "output_type": "stream",
     "text": [
      " Średnia temperatura w Kelwinach na księżycu w dzień 453\n",
      " Średnia temperatura w Celsjuszach na księżycu w nocy -180\n",
      " Średnia temperatura w Kelwinach na Marsie 210\n",
      " Max temperatura w Kelwinach na Marsie 293\n",
      " Min temperatura w Celsjuszach na Marsie -153\n"
     ]
    }
   ],
   "source": [
    "# Jeden Kelwin to jeden stopień Celsiusza (1K = 1°C)\n",
    "\n",
    "# Zero Kelwina (bezwzględne) to -273.15 stopni Celsiusza\n",
    "\n",
    "# W zadaniu przyjmij równe -273°C (0K = -273°C)\n",
    "\n",
    "# Ile Kelwinów, a ile stopni Celsiusza wynoszą średnie temperatury powierzchni [dACSICINTA19]:\n",
    "\n",
    "# Księżyca w dzień: 180 °C\n",
    "\n",
    "# Księżyca w nocy: 93 K\n",
    "\n",
    "# Mars średnia: −63 °C\n",
    "\n",
    "# Mars najwyższa: 20 °C\n",
    "\n",
    "# Mars najniższa: 120 K\n",
    "\n",
    "CELSJUSZ = 1\n",
    "ZEROKELWIN=-273 * CELSJUSZ\n",
    "dzienKsiezyc=180 #C\n",
    "nocKsiezyc = 93 #K\n",
    "avgMars = -63 #C\n",
    "maxMars = 20 #C\n",
    "minMars = 120 #K\n",
    "\n",
    "\n",
    "print(f' Średnia temperatura w Kelwinach na księżycu w dzień {dzienKsiezyc*CELSJUSZ - ZEROKELWIN}')\n",
    "print(f' Średnia temperatura w Celsjuszach na księżycu w nocy {nocKsiezyc + ZEROKELWIN}')\n",
    "print(f' Średnia temperatura w Kelwinach na Marsie {avgMars*CELSJUSZ - ZEROKELWIN}')\n",
    "print(f' Max temperatura w Kelwinach na Marsie {maxMars*CELSJUSZ - ZEROKELWIN}')\n",
    "print(f' Min temperatura w Celsjuszach na Marsie {minMars + ZEROKELWIN}')\n",
    "\n"
   ]
  },
  {
   "cell_type": "code",
   "execution_count": 55,
   "metadata": {},
   "outputs": [
    {
     "name": "stdout",
     "output_type": "stream",
     "text": [
      "Meters: 1337\n",
      "Kilometers: 1.337\n",
      "Miles: 0.83\n",
      "Nautical Miles: 0.72\n",
      "m: 1337, km: 1.337, mi: 0.8, nm: 0.7\n"
     ]
    }
   ],
   "source": [
    "# Użyj kodu z sekcji \"Input\" (patrz poniżej)\n",
    "\n",
    "# Zdefiniuj zmienną dla przechowywania wartości 1337 metrów\n",
    "\n",
    "# Wypisz wartość w różnych jednostkach\n",
    "\n",
    "# Przekonwertuj dane do typów podanych w komentarzu po prawej stronie\n",
    "\n",
    "# Zamiast ... podstaw wyliczone i przekonwertowane wartości\n",
    "\n",
    "# Wymagania niefunkcjonalne:\n",
    "\n",
    "# Nie używaj input()\n",
    "\n",
    "M = 1\n",
    "KM = 1000 * M\n",
    "MI = 1608 * M\n",
    "NMI = 1852 * M\n",
    "zmienna = 1337 * M\n",
    "zmiennaKM =float(zmienna/KM)\n",
    "zmiennaMI =float(zmienna/MI)\n",
    "zmiennaNMI =float(zmienna/NMI)\n",
    "\n",
    "print(f'Meters: {zmienna}')                                             # int\n",
    "print(f'Kilometers: {zmiennaKM}')                                    # float\n",
    "print(f'Miles: {round(zmiennaMI,2)}')                                # float (two decimal places)\n",
    "print(f'Nautical Miles: {round(zmiennaNMI,2)}')                      # float (two decimal places)\n",
    "print(f'm: {zmienna}, km: {zmiennaKM}, mi: {round(zmiennaMI,1)}, nm: {round(zmiennaNMI,1)}')  # int, int, float (one decimal place), float (one decimal place)"
   ]
  },
  {
   "cell_type": "code",
   "execution_count": 70,
   "metadata": {},
   "outputs": [
    {
     "name": "stdout",
     "output_type": "stream",
     "text": [
      "29647.455099999996\n",
      "40000\n",
      "1013.25\n",
      "21223.5345\n",
      "7088.625265486725\n"
     ]
    }
   ],
   "source": [
    "# Ciśnienie operacyjne skafandra kosmicznego EMU: 4.3 PSI\n",
    "\n",
    "# Ciśnienie operacyjne skafandra kosmicznego ORLAN: 400 hPa\n",
    "\n",
    "# Oblicz ciśnienie operacyjne skafandra EMU w kPa\n",
    "\n",
    "# Oblicz ciśnienie operacyjne skafandra Orlan w PSI\n",
    "\n",
    "# Oblicz ciśnienie standardowej atmosfery na poziomie morza\n",
    "\n",
    "# Oblicz ciśnienie parcjalne tlenu na poziomie morza\n",
    "\n",
    "# Na jakiej wysokości nad poziomem morza panuje ciśnienie równe ciśnieniu parcjalnemu tlenu?\n",
    "\n",
    "# Wypisz wszystkie wyniki w kPa oraz PSI zaokrąglając do dwóch miejsc po przecinku\n",
    "\n",
    "M=1\n",
    "PA = 1\n",
    "HPA = 100 * PA\n",
    "ATA = 1013.25 * HPA\n",
    "PSI = 6894.757 * PA\n",
    "PREESSURE = -11.3*PA/M\n",
    "skafanderEMU_hpa = 4.3 * PSI \n",
    "print(skafanderEMU_hpa)\n",
    "skafanderOrlan_psi = 400 * HPA \n",
    "print(skafanderOrlan_psi)\n",
    "print(ATA/HPA)\n",
    "o2 = 20.946/100 * ATA\n",
    "print(o2)\n",
    "death = (o2 - ATA)/(-11.3 / M)\n",
    "print(death)\n",
    "\n",
    "#dokończyć sformatować "
   ]
  },
  {
   "cell_type": "code",
   "execution_count": 66,
   "metadata": {},
   "outputs": [
    {
     "name": "stdout",
     "output_type": "stream",
     "text": [
      "True\n",
      "True\n",
      "True\n",
      "True\n",
      "True\n",
      "False\n",
      "True\n",
      "False\n"
     ]
    }
   ],
   "source": [
    "a = bool(True) == True                   # True\n",
    "b = bool(False) == False                  # True\n",
    "c = True == True                        # True\n",
    "d = True != False                        # True\n",
    "e = True or False                          # True\n",
    "f = True and False                         # False\n",
    "g = bool(bool(False) == False) or False   # True\n",
    "h = bool(True) is not bool(True)          # False\n",
    "print(bool(a))                          # True\n",
    "print(bool(b))                          # True\n",
    "print(bool(c))                          # True\n",
    "print(bool(d))                          # True\n",
    "print(bool(e))                          # True\n",
    "print(bool(f))                          # False\n",
    "print(bool(g))                          # True\n",
    "print(bool(h))                          # False"
   ]
  },
  {
   "cell_type": "code",
   "execution_count": 81,
   "metadata": {},
   "outputs": [
    {
     "name": "stdout",
     "output_type": "stream",
     "text": [
      "Podaj swoje imię : sda   \n",
      " hello sda 🙂\n",
      "3\n"
     ]
    }
   ],
   "source": [
    "# Poproś użytkownika o wprowadzenie imienia\n",
    "\n",
    "# Wypisz hello NAME EMOTICON, gdzie:\n",
    "\n",
    "# NAME to imię wczytane od użytkownika\n",
    "\n",
    "# EMOTICON to Unicode Codepoint \"U+1F642\"\n",
    "\n",
    "name = input('Podaj swoje imię :').strip()\n",
    "length = len(name)\n",
    "emoticon='\\U0001F642'\n",
    "print(f' hello {name} {emoticon}' )\n",
    "print(length)"
   ]
  },
  {
   "cell_type": "code",
   "execution_count": 112,
   "metadata": {
    "scrolled": true
   },
   "outputs": [
    {
     "name": "stdout",
     "output_type": "stream",
     "text": [
      "True\ta = \"Jana III Sobieskiego\"\n",
      "True\tb = \"Jana III Sobieskiego\"\n",
      "True\tc = \"Jana III Sobieskiego\"\n",
      "True\td = \"Jana III Sobieskiego\"\n",
      "True\te = \"Jana III Sobieskiego\"\n",
      "True\tf = \"Jana III Sobieskiego\"\n",
      "True\tg = \"Jana III Sobieskiego\"\n",
      "True\th = \"Jana III Sobieskiego\"\n",
      "True\ti = \"Jana III Sobieskiego\"\n"
     ]
    }
   ],
   "source": [
    "# Użyj danych z sekcji \"Input\" (patrz poniżej)\n",
    "\n",
    "# Oczekiwana wartość Jana III Sobieskiego\n",
    "\n",
    "# Wykorzystaj tylko metody str do oczyszczenia każdej zmiennej\n",
    "\n",
    "# Przeprowadź dyskusję jak zrobić rozwiązanie generyczne pasujące do wszystkich przypadków\n",
    "\n",
    "# Implementacja takiej generycznej funkcji będzie w rozdziale Cleaning text input\n",
    "\n",
    "# Porównaj wyniki z sekcją \"Output\" (patrz poniżej)\n",
    "\n",
    "a = 'ul Jana III SobIESkiego'\n",
    "b = '\\tul. Jana trzeciego Sobieskiego'\n",
    "c = 'ulicaJana III Sobieskiego'\n",
    "d = 'UL. JANA 3 \\nSOBIESKIEGO'\n",
    "e = 'UL. jana III SOBiesKIEGO'\n",
    "f = 'ULICA JANA III SOBIESKIEGO  '\n",
    "g = 'ULICA. JANA III SOBIeskieGO'\n",
    "h = ' Jana 3 Sobieskiego  '\n",
    "i = 'Jana III Sobi\\teskiego '\n",
    "\n",
    "a = a.replace('ul', '').title().replace('Iii', 'III').strip()\n",
    "b = b.replace('\\tul.', '').title().replace('Trzeciego', 'III').strip()\n",
    "c = c.replace('ulica', '').title().replace('Iii', 'III').strip()\n",
    "d = d.replace('UL.', '').replace('\\n', '').title().replace('3', 'III').strip()\n",
    "e=e.replace('UL.', '').title().replace('Iii', 'III').strip()\n",
    "f=f.replace('ULICA', '').title().replace('Iii', 'III').strip()\n",
    "g=g.replace('ULICA.', '').title().replace('Iii', 'III').strip()\n",
    "h=h.replace('3', 'III').strip()\n",
    "i=i.replace('\\t', '').strip()\n",
    "expected = 'Jana III Sobieskiego'\n",
    "\n",
    "print(f'{a == expected}\\ta = \"{a}\"')\n",
    "print(f'{b == expected}\\tb = \"{b}\"')\n",
    "print(f'{c == expected}\\tc = \"{c}\"')\n",
    "print(f'{d == expected}\\td = \"{d}\"')\n",
    "print(f'{e == expected}\\te = \"{e}\"')\n",
    "print(f'{f == expected}\\tf = \"{f}\"')\n",
    "print(f'{g == expected}\\tg = \"{g}\"')\n",
    "print(f'{h == expected}\\th = \"{h}\"')\n",
    "print(f'{i == expected}\\ti = \"{i}\"')"
   ]
  },
  {
   "cell_type": "code",
   "execution_count": 116,
   "metadata": {},
   "outputs": [
    {
     "name": "stdout",
     "output_type": "stream",
     "text": [
      "[5.8, 2.7, 5.1, 1.9, 'virginica'] [5.1, 3.5, 1.4, 0.2, 'setosa'] [5.7, 2.8, 4.1, 1.3, 'versicolor']\n"
     ]
    }
   ],
   "source": [
    "# Użyj danych z sekcji \"Input\" (patrz poniżej)\n",
    "\n",
    "# Stwórz list reprezentujący każdy wiersz\n",
    "\n",
    "a = [5.8, 2.7, 5.1, 1.9, 'virginica']\n",
    "b = [5.1,3.5,1.4,0.2,'setosa']\n",
    "c = [5.7, 2.8, 4.1, 1.3, 'versicolor']\n",
    "print(a,b,c)"
   ]
  },
  {
   "cell_type": "markdown",
   "metadata": {},
   "source": []
  },
  {
   "cell_type": "code",
   "execution_count": 128,
   "metadata": {},
   "outputs": [
    {
     "name": "stdout",
     "output_type": "stream",
     "text": [
      "['setosa', 5.8, 2.7, 5.1, 1.9] [5.1, 3.5, 1.4, 0.2, 'setosa', 'virginica'] [5.7, 2.8, 4.1, 1.3]\n"
     ]
    }
   ],
   "source": [
    "# Użyj danych z sekcji \"Input\" (patrz poniżej)\n",
    "\n",
    "# Na listę a na pozycję o indeksie 0 wstaw gatunek pobrany z listy b (setosa)\n",
    "\n",
    "# Na koniec listy b wstaw gatunek pobrany z listy a (virginica)\n",
    "\n",
    "# Z listy c usuń gatunek\n",
    "\n",
    "a = [5.8, 2.7, 5.1, 1.9, 'virginica']\n",
    "b = [5.1, 3.5, 1.4, 0.2, 'setosa']\n",
    "c = [5.7, 2.8, 4.1, 1.3, 'versicolor']\n",
    "\n",
    "a.insert(0,b[-1])\n",
    "b.append(a.pop())\n",
    "del c[-1]\n",
    "print(a,b,c)"
   ]
  },
  {
   "cell_type": "code",
   "execution_count": null,
   "metadata": {},
   "outputs": [],
   "source": []
  }
 ],
 "metadata": {
  "kernelspec": {
   "display_name": "Python 3",
   "language": "python",
   "name": "python3"
  },
  "language_info": {
   "codemirror_mode": {
    "name": "ipython",
    "version": 3
   },
   "file_extension": ".py",
   "mimetype": "text/x-python",
   "name": "python",
   "nbconvert_exporter": "python",
   "pygments_lexer": "ipython3",
   "version": "3.7.4"
  }
 },
 "nbformat": 4,
 "nbformat_minor": 2
}
