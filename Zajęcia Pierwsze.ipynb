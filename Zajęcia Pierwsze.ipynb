{
 "cells": [
  {
   "cell_type": "code",
   "execution_count": 7,
   "metadata": {},
   "outputs": [
    {
     "name": "stdout",
     "output_type": "stream",
     "text": [
      "Hello World Mateusz Skrzydło\n"
     ]
    }
   ],
   "source": [
    "# Stwórz skrypt Python\n",
    "\n",
    "# Na górze pliku dodaj wieloliniowy komentarz z opisem programu (punkty do wykonania z tego zadania)\n",
    "\n",
    "# Zadeklaruj zmienną name i ustaw jej wartość na Twoje imię\n",
    "\n",
    "# Dodaj komentarz \"inline\" do zmiennej o treści: \"This is my name\"\n",
    "\n",
    "# Wypisz \"Hello World NAME\", gdzie NAME to Twoje imię (zmienna name)\n",
    "\n",
    "name='Mateusz Skrzydło' #This is my name\n",
    "print(f'Hello World {name}')"
   ]
  },
  {
   "cell_type": "code",
   "execution_count": null,
   "metadata": {},
   "outputs": [],
   "source": []
  }
 ],
 "metadata": {
  "kernelspec": {
   "display_name": "Python 3",
   "language": "python",
   "name": "python3"
  },
  "language_info": {
   "codemirror_mode": {
    "name": "ipython",
    "version": 3
   },
   "file_extension": ".py",
   "mimetype": "text/x-python",
   "name": "python",
   "nbconvert_exporter": "python",
   "pygments_lexer": "ipython3",
   "version": "3.7.4"
  }
 },
 "nbformat": 4,
 "nbformat_minor": 2
}
